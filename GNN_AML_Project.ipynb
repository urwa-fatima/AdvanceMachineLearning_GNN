{
  "nbformat": 4,
  "nbformat_minor": 0,
  "metadata": {
    "colab": {
      "provenance": [],
      "collapsed_sections": [
        "OSC3-hTrJPyF"
      ],
      "authorship_tag": "ABX9TyMwGkyU4SL5QpGJPpOOMyBD",
      "include_colab_link": true
    },
    "kernelspec": {
      "name": "python3",
      "display_name": "Python 3"
    },
    "language_info": {
      "name": "python"
    }
  },
  "cells": [
    {
      "cell_type": "markdown",
      "metadata": {
        "id": "view-in-github",
        "colab_type": "text"
      },
      "source": [
        "<a href=\"https://colab.research.google.com/github/urwa-fatima/AdvanceMachineLearning_GNN/blob/main/GNN_AML_Project.ipynb\" target=\"_parent\"><img src=\"https://colab.research.google.com/assets/colab-badge.svg\" alt=\"Open In Colab\"/></a>"
      ]
    },
    {
      "cell_type": "code",
      "source": [
        "!pip install fsspec==2024.3.1"
      ],
      "metadata": {
        "collapsed": true,
        "id": "Oe7knaHOMmAy"
      },
      "execution_count": null,
      "outputs": []
    },
    {
      "cell_type": "code",
      "source": [
        "!pip install --upgrade torch_geometric"
      ],
      "metadata": {
        "collapsed": true,
        "id": "ZLbq9W9gKWU6"
      },
      "execution_count": null,
      "outputs": []
    },
    {
      "cell_type": "code",
      "source": [
        "!pip install plotly"
      ],
      "metadata": {
        "id": "fjVdZr0QO9r-"
      },
      "execution_count": null,
      "outputs": []
    },
    {
      "cell_type": "markdown",
      "source": [
        "# Basic Implementation"
      ],
      "metadata": {
        "id": "OSC3-hTrJPyF"
      }
    },
    {
      "cell_type": "code",
      "source": [
        "# Load dataset\n",
        "dataset = TUDataset(root='PROTEINS', name='PROTEINS')\n",
        "\n",
        "# Create DataLoader\n",
        "loader = DataLoader(dataset, batch_size=32, shuffle=True)\n",
        "\n",
        "# Initialize model\n",
        "model = ClassicalIterativeGNN(num_node_features=dataset.num_node_features,\n",
        "                              hidden_size=64,\n",
        "                              num_classes=dataset.num_classes)\n",
        "\n",
        "# Define optimizer\n",
        "optimizer = torch.optim.Adam(model.parameters(), lr=0.01)"
      ],
      "metadata": {
        "id": "V3n_cBlYIdpP"
      },
      "execution_count": null,
      "outputs": []
    },
    {
      "cell_type": "code",
      "source": [
        "print(f\"Number of graphs: {len(dataset)}\")\n",
        "print(f\"Number of node features: {dataset.num_node_features}\")\n",
        "print(f\"Number of edge features: {dataset.num_edge_features}\")\n",
        "print(f\"Number of classes: {dataset.num_classes}\")\n",
        "\n",
        "# Access the first graph in the dataset\n",
        "data = dataset[0]\n",
        "\n",
        "# Print the first graph's details\n",
        "print(\"\\nDetails of the first graph:\")\n",
        "print(f\"Number of nodes: {data.num_nodes}\")\n",
        "print(f\"Number of edges: {data.num_edges}\")\n",
        "print(f\"Node features: {data.x.shape}\") # Node feature matrix shape\n",
        "print(f\"Edge features: {data.edge_attr.shape if data.edge_attr is not None else 'No edge features'}\")\n",
        "print(f\"Graph label: {data.y}\")\n",
        "\n",
        "# You can also iterate over the first few graphs in the dataset\n",
        "for i in range(5):\n",
        "    print(f\"\\nGraph {i} details:\")\n",
        "    print(f\"Graph {i} has {dataset[i].num_nodes} nodes and {dataset[i].num_edges} edges.\")\n",
        "    print(f\"Node features shape: {dataset[i].x.shape}\")\n",
        "    print(f\"Edge attributes shape: {dataset[i].edge_attr.shape if dataset[i].edge_attr is not None else 'No edge attributes'}\")\n",
        "    print(f\"Label: {dataset[i].y}\")"
      ],
      "metadata": {
        "colab": {
          "base_uri": "https://localhost:8080/"
        },
        "id": "DbAU48XPpBTh",
        "outputId": "3a99eb5c-9a38-4fa2-fd9a-51342d8eb0d1"
      },
      "execution_count": null,
      "outputs": [
        {
          "output_type": "stream",
          "name": "stdout",
          "text": [
            "Number of graphs: 1113\n",
            "Number of node features: 3\n",
            "Number of edge features: 0\n",
            "Number of classes: 2\n",
            "\n",
            "Details of the first graph:\n",
            "Number of nodes: 42\n",
            "Number of edges: 162\n",
            "Node features: torch.Size([42, 3])\n",
            "Edge features: No edge features\n",
            "Graph label: tensor([0])\n",
            "\n",
            "Graph 0 details:\n",
            "Graph 0 has 42 nodes and 162 edges.\n",
            "Node features shape: torch.Size([42, 3])\n",
            "Edge attributes shape: No edge attributes\n",
            "Label: tensor([0])\n",
            "\n",
            "Graph 1 details:\n",
            "Graph 1 has 27 nodes and 92 edges.\n",
            "Node features shape: torch.Size([27, 3])\n",
            "Edge attributes shape: No edge attributes\n",
            "Label: tensor([0])\n",
            "\n",
            "Graph 2 details:\n",
            "Graph 2 has 10 nodes and 34 edges.\n",
            "Node features shape: torch.Size([10, 3])\n",
            "Edge attributes shape: No edge attributes\n",
            "Label: tensor([0])\n",
            "\n",
            "Graph 3 details:\n",
            "Graph 3 has 24 nodes and 92 edges.\n",
            "Node features shape: torch.Size([24, 3])\n",
            "Edge attributes shape: No edge attributes\n",
            "Label: tensor([0])\n",
            "\n",
            "Graph 4 details:\n",
            "Graph 4 has 11 nodes and 42 edges.\n",
            "Node features shape: torch.Size([11, 3])\n",
            "Edge attributes shape: No edge attributes\n",
            "Label: tensor([0])\n"
          ]
        }
      ]
    },
    {
      "cell_type": "code",
      "source": [
        "# Training function\n",
        "def train(model, loader, optimizer, criterion):\n",
        "    model.train()\n",
        "    total_loss = 0\n",
        "    for data in loader:\n",
        "        optimizer.zero_grad()\n",
        "        out = model(data.x, data.edge_index, data.edge_attr, data.batch)\n",
        "        loss = criterion(out, data.y)\n",
        "        loss.backward()\n",
        "        optimizer.step()\n",
        "        total_loss += loss.item() * data.num_graphs\n",
        "    return total_loss / len(loader.dataset)"
      ],
      "metadata": {
        "id": "aSh7BMQRIk3G"
      },
      "execution_count": null,
      "outputs": []
    },
    {
      "cell_type": "code",
      "source": [
        "# Evaluation function\n",
        "def evaluate(model, loader):\n",
        "    model.eval()\n",
        "    correct = 0\n",
        "    for data in loader:\n",
        "        out = model(data.x, data.edge_index, data.edge_attr, data.batch)\n",
        "        pred = out.argmax(dim=1)\n",
        "        correct += int((pred == data.y).sum())\n",
        "    return correct / len(loader.dataset)\n"
      ],
      "metadata": {
        "id": "L-HGW0inIr9G"
      },
      "execution_count": null,
      "outputs": []
    },
    {
      "cell_type": "code",
      "source": [
        "# Training loop\n",
        "num_epochs = 100\n",
        "criterion = nn.NLLLoss()\n",
        "\n",
        "for epoch in range(num_epochs):\n",
        "    loss = train(model, loader, optimizer, criterion)\n",
        "    test_acc = evaluate(model, loader)\n",
        "    print(f'Epoch: {epoch+1}, Loss: {loss:.4f}, Test Accuracy: {test_acc:.4f}')\n",
        "\n",
        "# Final evaluation\n",
        "final_acc = evaluate(model, loader)\n",
        "print(f'Final Accuracy: {final_acc:.4f}')"
      ],
      "metadata": {
        "colab": {
          "base_uri": "https://localhost:8080/"
        },
        "collapsed": true,
        "id": "uN3_-jwdIuyg",
        "outputId": "ce14ac2f-6e6a-4132-83d9-475dbfb89975"
      },
      "execution_count": null,
      "outputs": [
        {
          "output_type": "stream",
          "name": "stdout",
          "text": [
            "Epoch: 1, Loss: 0.6756, Test Accuracy: 0.6424\n",
            "Epoch: 2, Loss: 0.6338, Test Accuracy: 0.6640\n",
            "Epoch: 3, Loss: 0.6867, Test Accuracy: 0.6415\n",
            "Epoch: 4, Loss: 0.6761, Test Accuracy: 0.5957\n",
            "Epoch: 5, Loss: 0.6748, Test Accuracy: 0.5957\n",
            "Epoch: 6, Loss: 0.6728, Test Accuracy: 0.6424\n",
            "Epoch: 7, Loss: 0.6622, Test Accuracy: 0.6541\n",
            "Epoch: 8, Loss: 0.6523, Test Accuracy: 0.6649\n",
            "Epoch: 9, Loss: 0.6445, Test Accuracy: 0.6631\n",
            "Epoch: 10, Loss: 0.6483, Test Accuracy: 0.6685\n",
            "Epoch: 11, Loss: 0.6308, Test Accuracy: 0.7071\n",
            "Epoch: 12, Loss: 0.6318, Test Accuracy: 0.5957\n",
            "Epoch: 13, Loss: 0.6540, Test Accuracy: 0.6667\n",
            "Epoch: 14, Loss: 0.6443, Test Accuracy: 0.5957\n",
            "Epoch: 15, Loss: 0.6380, Test Accuracy: 0.5921\n",
            "Epoch: 16, Loss: 0.6483, Test Accuracy: 0.6586\n",
            "Epoch: 17, Loss: 0.6356, Test Accuracy: 0.6748\n",
            "Epoch: 18, Loss: 0.6342, Test Accuracy: 0.6703\n",
            "Epoch: 19, Loss: 0.6301, Test Accuracy: 0.6694\n",
            "Epoch: 20, Loss: 0.6449, Test Accuracy: 0.6649\n",
            "Epoch: 21, Loss: 0.6329, Test Accuracy: 0.6631\n",
            "Epoch: 22, Loss: 0.6303, Test Accuracy: 0.6712\n",
            "Epoch: 23, Loss: 0.6337, Test Accuracy: 0.6649\n",
            "Epoch: 24, Loss: 0.6337, Test Accuracy: 0.6685\n",
            "Epoch: 25, Loss: 0.6353, Test Accuracy: 0.6712\n",
            "Epoch: 26, Loss: 0.6283, Test Accuracy: 0.6451\n",
            "Epoch: 27, Loss: 0.6351, Test Accuracy: 0.6280\n",
            "Epoch: 28, Loss: 0.6354, Test Accuracy: 0.6694\n",
            "Epoch: 29, Loss: 0.6345, Test Accuracy: 0.6721\n",
            "Epoch: 30, Loss: 0.6249, Test Accuracy: 0.7080\n",
            "Epoch: 31, Loss: 0.6441, Test Accuracy: 0.6730\n",
            "Epoch: 32, Loss: 0.6435, Test Accuracy: 0.6721\n",
            "Epoch: 33, Loss: 0.6360, Test Accuracy: 0.6271\n",
            "Epoch: 34, Loss: 0.6388, Test Accuracy: 0.6676\n",
            "Epoch: 35, Loss: 0.6346, Test Accuracy: 0.6640\n",
            "Epoch: 36, Loss: 0.6382, Test Accuracy: 0.6451\n",
            "Epoch: 37, Loss: 0.6331, Test Accuracy: 0.6343\n",
            "Epoch: 38, Loss: 0.6666, Test Accuracy: 0.5957\n",
            "Epoch: 39, Loss: 0.6750, Test Accuracy: 0.5957\n",
            "Epoch: 40, Loss: 0.6750, Test Accuracy: 0.5957\n",
            "Epoch: 41, Loss: 0.6757, Test Accuracy: 0.5957\n",
            "Epoch: 42, Loss: 0.6757, Test Accuracy: 0.5957\n",
            "Epoch: 43, Loss: 0.6753, Test Accuracy: 0.5957\n",
            "Epoch: 44, Loss: 0.6757, Test Accuracy: 0.5957\n",
            "Epoch: 45, Loss: 0.6756, Test Accuracy: 0.5957\n",
            "Epoch: 46, Loss: 0.6751, Test Accuracy: 0.5957\n",
            "Epoch: 47, Loss: 0.6749, Test Accuracy: 0.5957\n",
            "Epoch: 48, Loss: 0.6749, Test Accuracy: 0.5957\n",
            "Epoch: 49, Loss: 0.6753, Test Accuracy: 0.5957\n",
            "Epoch: 50, Loss: 0.6758, Test Accuracy: 0.5957\n",
            "Epoch: 51, Loss: 0.6750, Test Accuracy: 0.5957\n",
            "Epoch: 52, Loss: 0.6751, Test Accuracy: 0.5957\n",
            "Epoch: 53, Loss: 0.6755, Test Accuracy: 0.5957\n",
            "Epoch: 54, Loss: 0.6750, Test Accuracy: 0.5957\n",
            "Epoch: 55, Loss: 0.6752, Test Accuracy: 0.5957\n",
            "Epoch: 56, Loss: 0.6752, Test Accuracy: 0.5957\n",
            "Epoch: 57, Loss: 0.6755, Test Accuracy: 0.5957\n",
            "Epoch: 58, Loss: 0.6751, Test Accuracy: 0.5957\n",
            "Epoch: 59, Loss: 0.6750, Test Accuracy: 0.5957\n",
            "Epoch: 60, Loss: 0.6750, Test Accuracy: 0.5957\n",
            "Epoch: 61, Loss: 0.6749, Test Accuracy: 0.5957\n",
            "Epoch: 62, Loss: 0.6753, Test Accuracy: 0.5957\n",
            "Epoch: 63, Loss: 0.6751, Test Accuracy: 0.5957\n",
            "Epoch: 64, Loss: 0.6751, Test Accuracy: 0.5957\n",
            "Epoch: 65, Loss: 0.6754, Test Accuracy: 0.5957\n",
            "Epoch: 66, Loss: 0.6755, Test Accuracy: 0.5957\n",
            "Epoch: 67, Loss: 0.6751, Test Accuracy: 0.5957\n",
            "Epoch: 68, Loss: 0.6752, Test Accuracy: 0.5957\n",
            "Epoch: 69, Loss: 0.6751, Test Accuracy: 0.5957\n",
            "Epoch: 70, Loss: 0.6762, Test Accuracy: 0.5957\n",
            "Epoch: 71, Loss: 0.6751, Test Accuracy: 0.5957\n",
            "Epoch: 72, Loss: 0.6749, Test Accuracy: 0.5957\n",
            "Epoch: 73, Loss: 0.6752, Test Accuracy: 0.5957\n",
            "Epoch: 74, Loss: 0.6763, Test Accuracy: 0.5957\n",
            "Epoch: 75, Loss: 0.6751, Test Accuracy: 0.5957\n",
            "Epoch: 76, Loss: 0.6748, Test Accuracy: 0.5957\n",
            "Epoch: 77, Loss: 0.6750, Test Accuracy: 0.5957\n",
            "Epoch: 78, Loss: 0.6759, Test Accuracy: 0.5957\n",
            "Epoch: 79, Loss: 0.6749, Test Accuracy: 0.5957\n",
            "Epoch: 80, Loss: 0.6749, Test Accuracy: 0.5957\n",
            "Epoch: 81, Loss: 0.6751, Test Accuracy: 0.5957\n",
            "Epoch: 82, Loss: 0.6753, Test Accuracy: 0.5957\n",
            "Epoch: 83, Loss: 0.6749, Test Accuracy: 0.5957\n",
            "Epoch: 84, Loss: 0.6751, Test Accuracy: 0.5957\n",
            "Epoch: 85, Loss: 0.6753, Test Accuracy: 0.5957\n",
            "Epoch: 86, Loss: 0.6755, Test Accuracy: 0.5957\n",
            "Epoch: 87, Loss: 0.6751, Test Accuracy: 0.5957\n",
            "Epoch: 88, Loss: 0.6762, Test Accuracy: 0.5957\n",
            "Epoch: 89, Loss: 0.6752, Test Accuracy: 0.5957\n",
            "Epoch: 90, Loss: 0.6765, Test Accuracy: 0.5957\n",
            "Epoch: 91, Loss: 0.6755, Test Accuracy: 0.5957\n",
            "Epoch: 92, Loss: 0.6753, Test Accuracy: 0.5957\n",
            "Epoch: 93, Loss: 0.6753, Test Accuracy: 0.5957\n",
            "Epoch: 94, Loss: 0.6753, Test Accuracy: 0.5957\n",
            "Epoch: 95, Loss: 0.6753, Test Accuracy: 0.5957\n",
            "Epoch: 96, Loss: 0.6753, Test Accuracy: 0.5957\n",
            "Epoch: 97, Loss: 0.6753, Test Accuracy: 0.5957\n",
            "Epoch: 98, Loss: 0.6751, Test Accuracy: 0.5957\n",
            "Epoch: 99, Loss: 0.6751, Test Accuracy: 0.5957\n",
            "Epoch: 100, Loss: 0.6749, Test Accuracy: 0.5957\n",
            "Final Accuracy: 0.5957\n"
          ]
        }
      ]
    },
    {
      "cell_type": "code",
      "source": [
        "class ClassicalIterativeGNN(nn.Module):\n",
        "    def __init__(self, num_node_features, hidden_size, num_classes, num_iterations=5):\n",
        "        super(ClassicalIterativeGNN, self).__init__()\n",
        "        self.num_iterations = num_iterations\n",
        "\n",
        "\n",
        "        # State update function\n",
        "        self.state_update = nn.Sequential(\n",
        "            nn.Linear(num_node_features + hidden_size, hidden_size),  # Adjusted input size\n",
        "            nn.ReLU(),\n",
        "            nn.Linear(hidden_size, hidden_size)\n",
        "        )\n",
        "\n",
        "        # Output function\n",
        "        self.output = nn.Sequential(\n",
        "            nn.Linear(hidden_size, hidden_size),\n",
        "            nn.ReLU(),\n",
        "            nn.Linear(hidden_size, num_classes)\n",
        "        )\n",
        "\n",
        "    def forward(self, x, edge_index, edge_attr, batch):\n",
        "        num_nodes = x.size(0)\n",
        "\n",
        "        # Initialize node states (h) with zeros, shape: (num_nodes, hidden_size)\n",
        "        h = torch.zeros(num_nodes, self.state_update[0].out_features).to(x.device)\n",
        "\n",
        "        # Iterative state update\n",
        "        for _ in range(self.num_iterations):\n",
        "            # Aggregate neighbor states\n",
        "            neighbor_states = h[edge_index[1]]  # Neighbor states\n",
        "\n",
        "            # If edge attributes are present, concatenate them with neighbor states\n",
        "            if edge_attr is not None:\n",
        "                edge_states = torch.cat([neighbor_states, edge_attr], dim=1)\n",
        "            else:\n",
        "                edge_states = neighbor_states  # If no edge features, only use neighbor states\n",
        "\n",
        "            # Aggregate states from neighbors (message passing)\n",
        "            aggregated = torch_geometric.utils.scatter(edge_states, edge_index[0], dim=0, dim_size=num_nodes, reduce='mean')\n",
        "\n",
        "            # Update node states by concatenating original node features (x) with aggregated neighbor information and hidden state (h)\n",
        "            node_inputs = torch.cat([x, aggregated], dim=1)  # Concatenate x (node features) and aggregated messages\n",
        "            h = self.state_update(node_inputs)\n",
        "\n",
        "        # Global mean pooling to get graph-level representation\n",
        "        graph_embedding = torch_geometric.nn.global_mean_pool(h, batch)\n",
        "\n",
        "        # Compute the output for classification\n",
        "        out = self.output(graph_embedding)\n",
        "        return F.log_softmax(out, dim=1)"
      ],
      "metadata": {
        "id": "4FZKDJrsIWaa"
      },
      "execution_count": null,
      "outputs": []
    },
    {
      "cell_type": "code",
      "execution_count": null,
      "metadata": {
        "id": "fCU3dQkapw4g"
      },
      "outputs": [],
      "source": [
        "import torch\n",
        "import torch.nn as nn\n",
        "import torch.nn.functional as F\n",
        "import torch_geometric.utils\n",
        "import torch_geometric\n",
        "from torch_geometric.datasets import TUDataset\n",
        "from torch_geometric.loader import DataLoader\n",
        "import networkx as nx\n",
        "import matplotlib.pyplot as plt\n",
        "import numpy as np"
      ]
    },
    {
      "cell_type": "markdown",
      "source": [
        "# Hyper Parameter Experiments"
      ],
      "metadata": {
        "id": "xL-jcalTJFDo"
      }
    },
    {
      "cell_type": "code",
      "source": [
        "import torch\n",
        "import torch.nn as nn\n",
        "import torch.nn.functional as F\n",
        "import torch_geometric.utils\n",
        "import torch_geometric\n",
        "from torch_geometric.datasets import TUDataset\n",
        "from torch_geometric.loader import DataLoader\n",
        "import networkx as nx\n",
        "import matplotlib.pyplot as plt\n",
        "from sklearn.metrics import f1_score\n",
        "from torch.utils.tensorboard import SummaryWriter\n",
        "import json\n",
        "import os"
      ],
      "metadata": {
        "id": "jJKDxjjP_S57"
      },
      "execution_count": 5,
      "outputs": []
    },
    {
      "cell_type": "markdown",
      "source": [
        "# Understanding the TUDataset - PROTEINS"
      ],
      "metadata": {
        "id": "bYItJA1NHdLo"
      }
    },
    {
      "cell_type": "code",
      "source": [
        "dataset = TUDataset(root='PROTEINS', name='PROTEINS')\n"
      ],
      "metadata": {
        "id": "nVC7OL4gp-io"
      },
      "execution_count": null,
      "outputs": []
    },
    {
      "cell_type": "code",
      "source": [
        "# Overview of the dataset\n",
        "print()\n",
        "print(f'Dataset: {dataset}:')\n",
        "print('====================')\n",
        "print(f'Number of graphs: {len(dataset)}')\n",
        "print(f'Number of features: {dataset.num_features}') # num_features and num_node_features is the same thing\n",
        "print(f'Number of classes: {dataset.num_classes}')\n",
        "\n",
        "data = dataset[0]  # Get the first graph object.\n",
        "\n",
        "print()\n",
        "print(data)\n",
        "print('=============================================================')\n",
        "\n",
        "# Gather some statistics about the first graph.\n",
        "print(f'Number of nodes: {data.num_nodes}')\n",
        "print(f'Number of node features: {data.num_node_features}')\n",
        "print(f'Number of edges: {data.num_edges}')\n",
        "print(f'Number of edge feature: {data.num_edge_features}')\n",
        "print(f'Average node degree: {data.num_edges / data.num_nodes:.2f}')\n",
        "print(f'Has isolated nodes: {data.has_isolated_nodes()}')\n",
        "print(f'Has self-loops: {data.has_self_loops()}')\n",
        "print(f'Is undirected: {data.is_undirected()}')"
      ],
      "metadata": {
        "colab": {
          "base_uri": "https://localhost:8080/"
        },
        "id": "_GiG7Vi4RSu2",
        "outputId": "e51fe414-066e-4260-b8e3-be6a546d1168"
      },
      "execution_count": 48,
      "outputs": [
        {
          "output_type": "stream",
          "name": "stdout",
          "text": [
            "\n",
            "Dataset: PROTEINS(1113):\n",
            "====================\n",
            "Number of graphs: 1113\n",
            "Number of features: 3\n",
            "Number of classes: 2\n",
            "\n",
            "Data(edge_index=[2, 162], x=[42, 3], y=[1])\n",
            "=============================================================\n",
            "Number of nodes: 42\n",
            "Number of node features: 3\n",
            "Number of edges: 162\n",
            "Number of edge feature: 0\n",
            "Average node degree: 3.86\n",
            "Has isolated nodes: False\n",
            "Has self-loops: False\n",
            "Is undirected: True\n"
          ]
        }
      ]
    },
    {
      "cell_type": "code",
      "source": [
        "# class distribution in our dataset\n",
        "enzymes = 0\n",
        "non_enzymes = 0\n",
        "\n",
        "for data in dataset:\n",
        "  if data.y.item() == 1:\n",
        "    enzymes += 1\n",
        "  else:\n",
        "    non_enzymes += 1\n",
        "\n",
        "print(f\"Number of enzymes: {enzymes}\")\n",
        "print(f\"Number of non-enzymes: {non_enzymes}\")\n"
      ],
      "metadata": {
        "colab": {
          "base_uri": "https://localhost:8080/"
        },
        "id": "Ox-pqUNnETqP",
        "outputId": "55fe9f19-09fd-4711-b018-938285df4a75"
      },
      "execution_count": 59,
      "outputs": [
        {
          "output_type": "stream",
          "name": "stdout",
          "text": [
            "Number of enzymes: 450\n",
            "Number of non-enzymes: 663\n"
          ]
        }
      ]
    },
    {
      "cell_type": "code",
      "source": [
        "# checking proteins with SSE of turns in proteins\n",
        "indices = []\n",
        "for i in range(len(dataset)):\n",
        "  data = dataset[i]\n",
        "  for j in range(data.x.shape[0]):\n",
        "    if torch.all(data.x[j] == torch.tensor([0, 0, 1])):\n",
        "      indices.append(i)\n",
        "      break\n",
        "print(len(indices))\n",
        "print(indices)\n"
      ],
      "metadata": {
        "colab": {
          "base_uri": "https://localhost:8080/"
        },
        "id": "ch3zrGjH1DLc",
        "outputId": "74091e7c-c101-4ae3-a4ce-bc2aad5c025b"
      },
      "execution_count": 54,
      "outputs": [
        {
          "output_type": "stream",
          "name": "stdout",
          "text": [
            "88\n",
            "[25, 36, 42, 123, 125, 168, 170, 232, 240, 305, 311, 313, 321, 343, 351, 353, 354, 410, 415, 419, 420, 424, 431, 433, 446, 453, 454, 507, 523, 537, 547, 554, 555, 563, 570, 581, 583, 587, 614, 615, 617, 621, 628, 639, 641, 642, 643, 653, 655, 656, 685, 727, 745, 750, 753, 755, 756, 765, 799, 831, 861, 885, 934, 936, 957, 969, 973, 980, 1018, 1029, 1030, 1041, 1050, 1057, 1061, 1063, 1066, 1072, 1074, 1076, 1080, 1085, 1089, 1092, 1098, 1109, 1110, 1112]\n"
          ]
        }
      ]
    },
    {
      "cell_type": "code",
      "source": [
        "data = dataset[523]\n",
        "data"
      ],
      "metadata": {
        "colab": {
          "base_uri": "https://localhost:8080/"
        },
        "id": "pjHgad0PrHGR",
        "outputId": "602b95af-b02e-4a6a-81ca-8fe55c4a71c6"
      },
      "execution_count": 79,
      "outputs": [
        {
          "output_type": "execute_result",
          "data": {
            "text/plain": [
              "Data(edge_index=[2, 72], x=[21, 3], y=[1])"
            ]
          },
          "metadata": {},
          "execution_count": 79
        }
      ]
    },
    {
      "cell_type": "code",
      "source": [
        "G = nx.Graph()\n",
        "G.add_edges_from(data.edge_index.t().tolist())\n",
        "\n",
        "# Compute a fixed layout\n",
        "pos = nx.spring_layout(G, seed=42)  # seed for reproducibility\n",
        "\n",
        "node_colors = ['tab:red' if f[0] > 0 else 'tab:blue' if f[1] > 0 else 'orange' for f in data.x]\n",
        "pred_node_colors = ['tab:green' if p > 0 else 'tab:gray' for p in data.y]\n"
      ],
      "metadata": {
        "id": "ezxBKBjVrMDL"
      },
      "execution_count": 80,
      "outputs": []
    },
    {
      "cell_type": "code",
      "source": [
        "# Draw the graph\n",
        "plt.figure(figsize=(5, 5))\n",
        "nx.draw(G, pos=pos, node_color=node_colors, with_labels=True, node_size=500, font_size=10, font_color=\"white\", alpha=0.7,)\n",
        "plt.title(f\"Protein Graph (Label: {data.y.item()})\")\n",
        "plt.show()"
      ],
      "metadata": {
        "colab": {
          "base_uri": "https://localhost:8080/",
          "height": 559
        },
        "id": "NDfpHz27tQne",
        "outputId": "60e2c68c-acbb-4ed0-b7ec-b62420d68014"
      },
      "execution_count": 84,
      "outputs": [
        {
          "output_type": "display_data",
          "data": {
            "text/plain": [
              "<Figure size 500x500 with 1 Axes>"
            ],
            "image/png": "[encoded data removed]"
          },
          "metadata": {}
        }
      ]
    },
    {
      "cell_type": "markdown",
      "source": [
        "Message Passing and Pooling Layers of GNN"
      ],
      "metadata": {
        "id": "87ewgc4gHtlM"
      }
    },
    {
      "cell_type": "code",
      "source": [
        "class ClassicalIterativeGNN(nn.Module):\n",
        "    def __init__(self, num_node_features, hidden_size, num_classes, num_iterations=5):\n",
        "        super(ClassicalIterativeGNN, self).__init__()\n",
        "        self.num_iterations = num_iterations\n",
        "\n",
        "\n",
        "        # State update function\n",
        "        self.state_update = nn.Sequential(\n",
        "            nn.Linear(num_node_features + hidden_size, hidden_size),  # Adjusted input size\n",
        "            nn.ReLU(),\n",
        "            nn.Linear(hidden_size, hidden_size)\n",
        "        )\n",
        "\n",
        "        # Output function\n",
        "        self.output = nn.Sequential(\n",
        "            nn.Linear(hidden_size, hidden_size),\n",
        "            nn.ReLU(),\n",
        "            nn.Linear(hidden_size, num_classes)\n",
        "        )\n",
        "\n",
        "    def forward(self, x, edge_index, edge_attr, batch):\n",
        "        num_nodes = x.size(0)\n",
        "\n",
        "        # Initialize node states (h) with zeros, shape: (num_nodes, hidden_size)\n",
        "        h = torch.zeros(num_nodes, self.state_update[0].out_features).to(x.device)\n",
        "\n",
        "        # Iterative state update\n",
        "        for _ in range(self.num_iterations):\n",
        "            # Aggregate neighbor states\n",
        "            neighbor_states = h[edge_index[1]]  # Neighbor states\n",
        "\n",
        "            # If edge attributes are present, concatenate them with neighbor states\n",
        "            if edge_attr is not None:\n",
        "                edge_states = torch.cat([neighbor_states, edge_attr], dim=1)\n",
        "            else:\n",
        "                edge_states = neighbor_states  # If no edge features, only use neighbor states\n",
        "\n",
        "            # Aggregate states from neighbors (message passing)\n",
        "            aggregated = torch_geometric.utils.scatter(edge_states, edge_index[0], dim=0, dim_size=num_nodes, reduce='mean')\n",
        "\n",
        "            # Update node states by concatenating original node features (x) with aggregated neighbor information and hidden state (h)\n",
        "            node_inputs = torch.cat([x, aggregated], dim=1)  # Concatenate x (node features) and aggregated messages\n",
        "            h = self.state_update(node_inputs)\n",
        "\n",
        "        # Global mean pooling to get graph-level representation\n",
        "        graph_embedding = torch_geometric.nn.global_mean_pool(h, batch)\n",
        "\n",
        "        # Compute the output for classification\n",
        "        out = self.output(graph_embedding)\n",
        "        return F.log_softmax(out, dim=1)"
      ],
      "metadata": {
        "id": "Ohz3lyHoPeHj"
      },
      "execution_count": null,
      "outputs": []
    },
    {
      "cell_type": "markdown",
      "source": [
        "# Model Traing and Experimentation"
      ],
      "metadata": {
        "id": "rDELIcNtH82F"
      }
    },
    {
      "cell_type": "code",
      "source": [
        "def run_experiment(hidden_size, num_iterations, lr, num_epochs):\n",
        "    # Create DataLoader\n",
        "    loader = DataLoader(dataset, batch_size=32, shuffle=True)\n",
        "\n",
        "    # Initialize model\n",
        "    model = ClassicalIterativeGNN(num_node_features=dataset.num_node_features,\n",
        "                                  hidden_size=hidden_size,\n",
        "                                  num_classes=dataset.num_classes,\n",
        "                                  num_iterations=num_iterations)\n",
        "\n",
        "    # Define optimizer\n",
        "    optimizer = torch.optim.Adam(model.parameters(), lr=lr)\n",
        "\n",
        "    # Define criterion\n",
        "    criterion = nn.NLLLoss()\n",
        "\n",
        "    # Initialize lists to store metrics\n",
        "    train_losses = []\n",
        "    test_accuracies = []\n",
        "    f1_scores = []\n",
        "\n",
        "    # Initialize TensorBoard writer\n",
        "    writer = SummaryWriter(f'runs/experiment_h{hidden_size}_i{num_iterations}_lr{lr}')\n",
        "\n",
        "    for epoch in range(num_epochs):\n",
        "        # Training\n",
        "        model.train()\n",
        "        total_loss = 0\n",
        "        for data in loader:\n",
        "            optimizer.zero_grad()\n",
        "            out = model(data.x, data.edge_index, data.edge_attr, data.batch)\n",
        "            loss = criterion(out, data.y)\n",
        "            loss.backward()\n",
        "            optimizer.step()\n",
        "            total_loss += loss.item() * data.num_graphs\n",
        "        avg_loss = total_loss / len(loader.dataset)\n",
        "        train_losses.append(avg_loss)\n",
        "\n",
        "        # Evaluation\n",
        "        model.eval()\n",
        "        correct = 0\n",
        "        predictions = []\n",
        "        true_labels = []\n",
        "        for data in loader:\n",
        "            out = model(data.x, data.edge_index, data.edge_attr, data.batch)\n",
        "            pred = out.argmax(dim=1)\n",
        "            correct += int((pred == data.y).sum())\n",
        "            predictions.extend(pred.tolist())\n",
        "            true_labels.extend(data.y.tolist())\n",
        "\n",
        "        accuracy = correct / len(loader.dataset)\n",
        "        f1 = f1_score(true_labels, predictions, average='weighted')\n",
        "\n",
        "        test_accuracies.append(accuracy)\n",
        "        f1_scores.append(f1)\n",
        "\n",
        "        print(f'Epoch: {epoch+1}, Loss: {avg_loss:.4f}, Test Accuracy: {accuracy:.4f}, F1 Score: {f1:.4f}')\n",
        "\n",
        "        # Log to TensorBoard\n",
        "        writer.add_scalar('Loss/train', avg_loss, epoch)\n",
        "        writer.add_scalar('Accuracy/test', accuracy, epoch)\n",
        "        writer.add_scalar('F1 Score', f1, epoch)\n",
        "\n",
        "    writer.close()\n",
        "\n",
        "    return train_losses, test_accuracies, f1_scores"
      ],
      "metadata": {
        "colab": {
          "base_uri": "https://localhost:8080/"
        },
        "id": "54EKCdjlAHJR",
        "outputId": "acb8e310-5178-42f3-a594-071e4a1ca8ad"
      },
      "execution_count": null,
      "outputs": [
        {
          "output_type": "stream",
          "name": "stderr",
          "text": [
            "Downloading https://www.chrsmrrs.com/graphkerneldatasets/PROTEINS.zip\n",
            "Processing...\n",
            "Done!\n",
            "/usr/local/lib/python3.10/dist-packages/torch_geometric/io/fs.py:215: FutureWarning: You are using `torch.load` with `weights_only=False` (the current default value), which uses the default pickle module implicitly. It is possible to construct malicious pickle data which will execute arbitrary code during unpickling (See https://github.com/pytorch/pytorch/blob/main/SECURITY.md#untrusted-models for more details). In a future release, the default value for `weights_only` will be flipped to `True`. This limits the functions that could be executed during unpickling. Arbitrary objects will no longer be allowed to be loaded via this mode unless they are explicitly allowlisted by the user via `torch.serialization.add_safe_globals`. We recommend you start setting `weights_only=True` for any use case where you don't have full control of the loaded file. Please open an issue on GitHub for any issues related to this experimental feature.\n",
            "  return torch.load(f, map_location)\n"
          ]
        }
      ]
    },
    {
      "cell_type": "code",
      "source": [
        "# Function to run multiple experiments and plot results\n",
        "def compare_hyperparameters(hidden_sizes, num_iterations_list, learning_rates, num_epochs):\n",
        "    results = {}\n",
        "    for hidden_size in hidden_sizes:\n",
        "        for num_iterations in num_iterations_list:\n",
        "            for lr in learning_rates:\n",
        "                key = f'h{hidden_size}_i{num_iterations}_lr{lr}'\n",
        "                print(f'Running experiment: {key}')\n",
        "                train_losses, test_accuracies, f1_scores = run_experiment(hidden_size, num_iterations, lr, num_epochs)\n",
        "                results[key] = {\n",
        "                    'train_losses': train_losses,\n",
        "                    'test_accuracies': test_accuracies,\n",
        "                    'f1_scores': f1_scores\n",
        "                }\n",
        "\n",
        "    # Plotting\n",
        "    fig, (ax1, ax2, ax3) = plt.subplots(3, 1, figsize=(10, 15))\n",
        "\n",
        "    for key, data in results.items():\n",
        "        ax1.plot(data['train_losses'], label=key)\n",
        "        ax2.plot(data['test_accuracies'], label=key)\n",
        "        ax3.plot(data['f1_scores'], label=key)\n",
        "\n",
        "    ax1.set_title('Training Loss')\n",
        "    ax1.set_xlabel('Epoch')\n",
        "    ax1.set_ylabel('Loss')\n",
        "    ax1.legend()\n",
        "\n",
        "    ax2.set_title('Test Accuracy')\n",
        "    ax2.set_xlabel('Epoch')\n",
        "    ax2.set_ylabel('Accuracy')\n",
        "    ax2.legend()\n",
        "\n",
        "    ax3.set_title('F1 Score')\n",
        "    ax3.set_xlabel('Epoch')\n",
        "    ax3.set_ylabel('F1 Score')\n",
        "    ax3.legend()\n",
        "\n",
        "    plt.tight_layout()\n",
        "    plt.savefig('hyperparameter_comparison.png')\n",
        "    plt.show()\n",
        "\n",
        "    # Save results to a JSON file\n",
        "    with open('experiment_results.json', 'w') as f:\n",
        "        json.dump(results, f)\n"
      ],
      "metadata": {
        "id": "F9tdRyXdAXMT"
      },
      "execution_count": null,
      "outputs": []
    },
    {
      "cell_type": "code",
      "source": [
        "# Run experiments\n",
        "# Set 1\n",
        "hidden_sizes = [64, 128, 256]\n",
        "num_iterations_list = [5, 10]\n",
        "learning_rates = [0.01, 0.001]\n",
        "num_epochs = 100\n",
        "\n",
        "compare_hyperparameters(hidden_sizes, num_iterations_list, learning_rates, num_epochs)"
      ],
      "metadata": {
        "id": "T_lJoin2QpwX"
      },
      "execution_count": null,
      "outputs": []
    },
    {
      "cell_type": "code",
      "source": [
        "hidden_sizes = [64, 128, 256]\n",
        "num_iterations_list = [2,3,4]\n",
        "learning_rates = [0.01, 0.001]\n",
        "num_epochs = 100\n",
        "\n",
        "compare_hyperparameters(hidden_sizes, num_iterations_list, learning_rates, num_epochs)"
      ],
      "metadata": {
        "id": "B3BSyuadQzfW"
      },
      "execution_count": null,
      "outputs": []
    },
    {
      "cell_type": "code",
      "source": [
        "!zip -r /content/runs.zip /content/runs\n",
        "from google.colab import files\n",
        "files.download(\"/content/runs.zip\")\n"
      ],
      "metadata": {
        "collapsed": true,
        "id": "-_8XPRxDiDJB"
      },
      "execution_count": null,
      "outputs": []
    },
    {
      "cell_type": "code",
      "source": [
        "!zip -r /content/PROTEINS.zip /content/PROTEINS\n",
        "from google.colab import files\n",
        "files.download(\"/content/PROTEINS.zip\")\n"
      ],
      "metadata": {
        "id": "a15I-kX0doCa"
      },
      "execution_count": null,
      "outputs": []
    },
    {
      "cell_type": "code",
      "source": [
        "import plotly.graph_objects as go\n",
        "# To load and plot results later:\n",
        "with open('experiment_results.json', 'r') as f:\n",
        "    loaded_results = json.load(f)\n",
        "# Then use the plotting code from compare_hyperparameters to visualize loaded_results\n",
        "\n",
        "epochs = list(range(100))\n",
        "# Create interactive plots using Plotly\n",
        "fig = go.Figure()\n",
        "\n",
        "# Plot Training Loss\n",
        "for label, data in loaded_results.items():\n",
        "    fig.add_trace(go.Scatter(x=epochs, y=data['train_losses'], mode='lines', name=f'{label} - Train Loss'))\n",
        "\n",
        "# Customize layout\n",
        "fig.update_layout(\n",
        "    title=\"Training Loss\",\n",
        "    xaxis_title=\"Epochs\",\n",
        "    yaxis_title=\"Metrics\",\n",
        "    showlegend=True,\n",
        "    legend_title=\"Hyperparameter Configurations\",\n",
        "\n",
        ")\n",
        "\n",
        "# Show the figure\n",
        "fig.show()"
      ],
      "metadata": {
        "colab": {
          "base_uri": "https://localhost:8080/",
          "height": 542
        },
        "id": "AS7ull_DAbyW",
        "outputId": "e9d4fcea-5444-4f1a-cdb6-96d9f317883e"
      },
      "execution_count": null,
      "outputs": [
        {
          "output_type": "display_data",
          "data": {
            "text/html": [
              "<html>\n",
              "<head><meta charset=\"utf-8\" /></head>\n",
              "<body>\n",
              "    <div>            <script src=\"https://cdnjs.cloudflare.com/ajax/libs/mathjax/2.7.5/MathJax.js?config=TeX-AMS-MML_SVG\"></script><script type=\"text/javascript\">if (window.MathJax && window.MathJax.Hub && window.MathJax.Hub.Config) {window.MathJax.Hub.Config({SVG: {font: \"STIX-Web\"}});}</script>                <script type=\"text/javascript\">window.PlotlyConfig = {MathJaxConfig: 'local'};</script>\n",
              "        <script charset=\"utf-8\" src=\"https://cdn.plot.ly/plotly-2.24.1.min.js\"></script>                <div id=\"54b523bd-90a2-426a-8165-7084693d506e\" class=\"plotly-graph-div\" style=\"height:525px; width:100%;\"></div>            <script type=\"text/javascript\">                                    window.PLOTLYENV=window.PLOTLYENV || {};                                    if (document.getElementById(\"54b523bd-90a2-426a-8165-7084693d506e\")) {                    Plotly.newPlot(                        \"54b523bd-90a2-426a-8165-7084693d506e\",                        [{\"mode\":\"lines\",\"name\":\"h64_i5_lr0.01 - Train Loss\",\"x\":[0,1,2,3,4,5,6,7,8,9,10,11,12,13,14,15,16,17,18,19,20,21,22,23,24,25,26,27,28,29,30,31,32,33,34,35,36,37,38,39,40,41,42,43,44,45,46,47,48,49,50,51,52,53,54,55,56,57,58,59,60,61,62,63,64,65,66,67,68,69,70,71,72,73,74,75,76,77,78,79,80,81,82,83,84,85,86,87,88,89,90,91,92,93,94,95,96,97,98,99],\"y\":[0.6750922671118408,0.6693020889272802,0.6059732690975672,0.5981015747769503,0.6163058664385306,0.5968701667005911,0.5981720028861836,0.582179660692155,0.5804974247717365,0.5624354069873436,0.5683026137591908,0.5860435886631543,0.5705021527953118,0.5674318063130597,0.558739586151728,0.5715503141029612,0.5815509465612598,0.6221441013365314,0.5808485945869113,0.5789745182254137,0.5743452656783183,0.5744810123113716,0.5818232312356687,0.5687067068490699,0.5750376597676101,0.586989138325591,0.593373968434141,0.5845225646168074,0.5718678739407206,0.6197654991029943,0.5791790209315644,0.5891057135602534,0.7163570799596226,0.671300689700693,0.6695388385227748,0.6508995185322517,0.6546079665288557,0.6330110099759063,0.6491367543268504,0.6453915819967532,0.6574894514366623,0.6531521675828761,0.6609455481479538,0.6481484433925591,0.6542648256414128,0.6451567707571594,0.6404985218892093,0.6439104331364421,0.6428594920191804,0.6394068776008147,0.6464883571043811,0.7231013444448953,0.6780101621033153,0.6751828272923198,0.6748205369266431,0.6749768992961256,0.6748791876828896,0.6754743622855249,0.6749453108158608,0.6763545649070946,0.6755115102779083,0.6750212974732562,0.6753083401077628,0.6754359085069298,0.6753998888256522,0.6752348471523295,0.6759954984939965,0.6753581396545897,0.6747565176823282,0.6751087306858929,0.6753759269551554,0.6751161546505794,0.6752469374698663,0.675383792947459,0.675085833612478,0.6753331038829773,0.6748880193454129,0.6750071611044541,0.6755172479613236,0.6752494431141788,0.675184679320559,0.6748912219838419,0.6752212643623352,0.6749543452841252,0.6747985796572813,0.675186580617687,0.6752379758874254,0.6750105678338996,0.6755699168853897,0.6756259713854108,0.6747886197907584,0.6754222997972158,0.6762140414678397,0.6749029994974882,0.674969855558733,0.6749225690465518,0.6750136293598048,0.6752067758280847,0.6752491206707231,0.6750934378905866],\"type\":\"scatter\"},{\"mode\":\"lines\",\"name\":\"h64_i5_lr0.001 - Train Loss\",\"x\":[0,1,2,3,4,5,6,7,8,9,10,11,12,13,14,15,16,17,18,19,20,21,22,23,24,25,26,27,28,29,30,31,32,33,34,35,36,37,38,39,40,41,42,43,44,45,46,47,48,49,50,51,52,53,54,55,56,57,58,59,60,61,62,63,64,65,66,67,68,69,70,71,72,73,74,75,76,77,78,79,80,81,82,83,84,85,86,87,88,89,90,91,92,93,94,95,96,97,98,99],\"y\":[0.6808747728986989,0.6743368542312184,0.6723758772698374,0.6521158907077169,0.6032830616534559,0.5878510405004078,0.5881715690029278,0.5751979427624692,0.591371757108032,0.5842873378584006,0.5642377742752768,0.5591783909945475,0.5653612361978221,0.5715960308119508,0.5615773183316234,0.5975733421883493,0.5820643839703309,0.5617688893468553,0.5773515970130708,0.5672659919750337,0.5568232966883163,0.5662905640786334,0.5736188549022897,0.5673105205272836,0.5623238632942467,0.5579077379187269,0.5690094961952971,0.5553341093410379,0.5702281002246467,0.5753461955264144,0.5664350847242549,0.5590071418964424,0.5568014927951473,0.559919335985655,0.5569053425621794,0.5536196344303634,0.5658140013802726,0.5580968537099278,0.5559105814199456,0.5570027640245031,0.5596401695721018,0.5591264049533456,0.5587584005211884,0.5571033547348732,0.5557778862983604,0.5709087897664453,0.5671178948365132,0.56723751415568,0.5573887777349913,0.5565152943723393,0.5525343750150805,0.5646793433169685,0.5551261660330807,0.5578291780329565,0.5546358778256076,0.5644142530784881,0.5557824976789126,0.5561939082162828,0.5590049874803984,0.5607266958404638,0.5562228957811991,0.5592678741410522,0.5647110165718537,0.5609765089211546,0.5548484267571544,0.5606081520557832,0.5496785684630128,0.5557700126211812,0.556397098522409,0.5517242920902111,0.5497832657084847,0.5523152668949515,0.549141699573743,0.551547690168331,0.5529216016506356,0.5509198768548031,0.5524915937679047,0.5507316234298151,0.5505528620846724,0.5555923890660501,0.5690574087972375,0.5561100292184389,0.554575201743161,0.5597623333883842,0.5498386283554907,0.5570900709052827,0.5641574246971219,0.5509626338959597,0.5507634885656009,0.5490365201090224,0.5504987989046074,0.5560414807440885,0.552412205736378,0.5556253556828186,0.5539256692575316,0.5511514111509863,0.5505092190603683,0.5498312696185288,0.5601664636976956,0.5558365967395813],\"type\":\"scatter\"},{\"mode\":\"lines\",\"name\":\"h64_i10_lr0.01 - Train Loss\",\"x\":[0,1,2,3,4,5,6,7,8,9,10,11,12,13,14,15,16,17,18,19,20,21,22,23,24,25,26,27,28,29,30,31,32,33,34,35,36,37,38,39,40,41,42,43,44,45,46,47,48,49,50,51,52,53,54,55,56,57,58,59,60,61,62,63,64,65,66,67,68,69,70,71,72,73,74,75,76,77,78,79,80,81,82,83,84,85,86,87,88,89,90,91,92,93,94,95,96,97,98,99],\"y\":[0.6820672238505004,0.6754358747684517,0.6760507306320005,1.0602814789730906,1.1489482626439427,416.91188695038744,34.63286644825503,0.6719032794317467,0.6404649560663578,0.6589297487300897,0.6503849307481812,0.6477623342503755,0.629633773422841,0.6427998199510018,0.6720555710664013,0.6769876048464231,0.670945347051629,0.6465311954392041,0.6287058251780213,0.6452579899404034,0.6340873496873038,0.6330602775793941,0.6084633880869719,0.6146290349403375,0.6058387787408478,0.6078248386541574,0.5906572438850128,0.6375299731783254,0.6320182469013245,0.6028347768873539,0.5947642610186622,0.5964771225874422,0.6027992251534132,0.5972339918457059,0.5919919567180987,0.5941614292809692,0.5843021742202951,0.6183888010366051,0.5975501437714158,0.5959754245621818,0.590593536480632,0.6004042352306233,0.5816037003670527,0.589021910875634,0.6288778728873261,0.5850969326731759,0.5958248248318777,0.5818327397027748,0.5750665011324544,0.5786502880763065,0.5826639099798006,0.5827083943239334,0.5880763584819872,0.5908627729103143,0.5872211405423345,0.5885100553727642,0.5793701296760922,0.5838941581487013,0.5891117744368685,0.5740786307798456,0.5809571095018481,0.5838538035549565,0.6040278940402165,0.5869301521124758,0.5868091209986568,0.5761553157264867,0.5813681770313568,0.5897757994196807,0.5916301882813241,0.5752702074230842,0.5767090679393196,0.5668803442734807,0.6010483899099379,0.6414102798952033,0.5784947884211322,0.5899626625516022,0.5733857087904767,0.5738517256438571,0.58843332247914,0.5719863951795292,0.5711078938341098,0.577972298844484,0.5675334427555938,0.5770591256432135,0.5880204672119367,0.5784530256743486,0.5693734037051411,0.5709027178846601,0.5729159244201468,0.5838703115245617,0.5721072967483027,0.5707542154024232,0.5720701212831585,0.5697424652762811,0.5661193413822263,0.5747388803733969,0.5835727583365942,0.5690475900967916,0.5765101982737487,0.5741323611271456],\"type\":\"scatter\"},{\"mode\":\"lines\",\"name\":\"h64_i10_lr0.001 - Train Loss\",\"x\":[0,1,2,3,4,5,6,7,8,9,10,11,12,13,14,15,16,17,18,19,20,21,22,23,24,25,26,27,28,29,30,31,32,33,34,35,36,37,38,39,40,41,42,43,44,45,46,47,48,49,50,51,52,53,54,55,56,57,58,59,60,61,62,63,64,65,66,67,68,69,70,71,72,73,74,75,76,77,78,79,80,81,82,83,84,85,86,87,88,89,90,91,92,93,94,95,96,97,98,99],\"y\":[0.6787934028556083,0.6732102308526087,0.6645326104018459,0.654261780770534,0.6327786624485163,0.6270488253179586,0.5872663718992166,0.5828486633322203,0.5738072087929683,0.5718994068328261,0.5690040626937167,0.5773701516230259,0.5623516642286878,0.5824694010125337,0.5652015084954713,0.5645646299206236,0.5601116003266134,0.572799171050818,0.5592190940853506,0.5701645290862304,0.5624278281202,0.5585112027616407,0.5668563262792932,0.5710983853670036,0.5770170103293331,0.5650231944261536,0.5715139887403606,0.5712591668344894,0.560737699297025,0.5585105301342027,0.5640339309421618,0.5567609896985454,0.5585299127828078,0.5500895080272935,0.5550990532564881,0.5547490477401291,0.5586263015263807,0.555208196269427,0.5579275696371871,0.5546174641942935,0.554419391720764,0.5576855968700694,0.5552633460159251,0.5579210109573597,0.5589727274169819,0.5601388742446043,0.5618313132163543,0.5662654282697556,0.5585299784389575,0.5572175744515974,0.55943972439993,0.5587904032349907,0.5616146463161101,0.5620251411483401,0.5572106844652696,0.5578328547773336,0.5557402609600639,0.5563417116961603,0.5557410957731862,0.5527178076935158,0.5530158273293323,0.5543701143170517,0.5639305874932915,0.5746536091545735,0.5616553978457284,0.5491596452309436,0.5560085918061496,0.5550975194410065,0.5573528307788777,0.5568953813568279,0.5529847834041712,0.546573511620202,0.5503542463948677,0.5480784335226383,0.5506609955405932,0.5447048342452859,0.5896091180563188,0.5585038454170604,0.5545022193098111,0.5578444574667544,0.5540284061903152,0.5498383329563706,0.5449705220297019,0.5596963595347906,0.5551382737018349,0.5548379667043043,0.5539744389774771,0.5542558834344978,0.5514829173242307,0.5513368262863331,0.5488378822214413,0.5566559645471976,0.5525006398572004,0.5496500805488922,0.5519827160606059,0.5525495053837134,0.5491265926078324,0.546607824562909,0.5485394362490775,0.5544395763008635],\"type\":\"scatter\"},{\"mode\":\"lines\",\"name\":\"h128_i5_lr0.01 - Train Loss\",\"x\":[0,1,2,3,4,5,6,7,8,9,10,11,12,13,14,15,16,17,18,19,20,21,22,23,24,25,26,27,28,29,30,31,32,33,34,35,36,37,38,39,40,41,42,43,44,45,46,47,48,49,50,51,52,53,54,55,56,57,58,59,60,61,62,63,64,65,66,67,68,69,70,71,72,73,74,75,76,77,78,79,80,81,82,83,84,85,86,87,88,89,90,91,92,93,94,95,96,97,98,99],\"y\":[0.6818189993701533,0.6767530018214374,0.6601996614605269,0.6448774590539376,0.6294128698265885,0.6399863420685239,0.6445583894460564,0.6447686313618868,0.6163155898679405,0.6033148275017203,2.4673822017157283,1.4749894868866988,0.7105397432640878,0.6771223522046612,0.6780372252361473,0.6755994721135896,0.678146602811839,0.6768277184125655,0.6806202117966191,0.6775668383394398,0.6752454988183144,0.6769932149127059,0.6764853188612391,0.6765755739494796,0.6761451080802958,0.6783163719956979,0.6770250377950643,0.676841081634686,0.6761384081005086,0.6753903788590582,0.6772519702967073,0.6751161811058305,0.6789271940225325,0.6806206545204272,0.6804179677209229,0.6763584305869494,0.6753099801191208,0.6757600480976773,0.6751690358592922,0.6815654077941196,0.6787451407123233,0.6756862615103777,0.676502202077696,0.6756561241059933,0.6771584091053712,0.6779079208583951,0.6760420003455712,0.6762591715557342,0.6779881687391371,0.6756214129956906,0.6770645867353715,0.6784540047971171,0.6774739684655874,0.6752372564545431,0.6765108590498767,0.6777614517888826,0.6760146490968463,0.6753997891097056,0.676369703897783,0.6748844140409245,0.6760272462412996,0.6751042246175905,0.6756703936079014,0.6753177693162217,0.674807906954115,0.6753513023109985,0.6764629438773855,0.6754901008036152,0.6756342870098776,0.6755373679831128,0.6758628193580237,0.6760229265379242,0.6772367003150385,0.6752707258817428,0.6757781757820006,0.6755906159772813,0.6750653667270012,0.6763764907943164,0.6749265455814063,0.6756483992262136,0.6755662683635174,0.6756621926942604,0.675319660009828,0.6755172670797946,0.675060006700329,0.6749666765907918,0.6758302400375633,0.676344284150157,0.6760515326973777,0.6753950641697201,0.6749854740106834,0.6763271933081765,0.6753069417817252,0.6750760190356239,0.6752358579678462,0.675037603601077,0.6756247818630661,0.674850904877295,0.6752177392804505,0.6751829017311843],\"type\":\"scatter\"},{\"mode\":\"lines\",\"name\":\"h128_i5_lr0.001 - Train Loss\",\"x\":[0,1,2,3,4,5,6,7,8,9,10,11,12,13,14,15,16,17,18,19,20,21,22,23,24,25,26,27,28,29,30,31,32,33,34,35,36,37,38,39,40,41,42,43,44,45,46,47,48,49,50,51,52,53,54,55,56,57,58,59,60,61,62,63,64,65,66,67,68,69,70,71,72,73,74,75,76,77,78,79,80,81,82,83,84,85,86,87,88,89,90,91,92,93,94,95,96,97,98,99],\"y\":[0.6762247225344984,0.6669375988029727,0.6353672561298483,0.6208199520209622,0.6119497153851114,0.577947240687659,0.5924924799213512,0.5673013862895194,0.571567486934799,0.5736380007924631,0.5909908703609511,0.570714235627105,0.5699607724020959,0.5643157572330705,0.5753159941260277,0.5688542664747247,0.5650674813734125,0.5662076697891506,0.570248743219624,0.5661114162404797,0.5696055374483964,0.567727239466099,0.5610180177992781,0.5581454150546058,0.557216556513513,0.5600973692223068,0.5579782173050917,0.5804923360452712,0.568904759106289,0.5590586320087916,0.5643561735735857,0.5631732284647863,0.5719846232132342,0.561674462522565,0.5625557700257418,0.5674486232039528,0.5566552944903104,0.5653299185357861,0.5636473088680037,0.5609908860113207,0.5723108764928627,0.5645738102676412,0.5624713970537348,0.5622537098590683,0.5631613264133131,0.569077293560083,0.5703036047698995,0.5586330878338296,0.553129704225631,0.558991036807109,0.5601783065461727,0.5649212092723487,0.5636643014399725,0.5594572829214818,0.5590694457801312,0.5710042101353648,0.5547609453466917,0.5571645705526409,0.5549612924898409,0.5563737189084265,0.5610712447470625,0.5615062874817999,0.5558914885473808,0.5599891553831229,0.5599841866156912,0.5556712995106747,0.5620861366752665,0.5586822138963684,0.553624693381283,0.5547836036266557,0.55678186152609,0.5659349954353189,0.5598523175512898,0.5557174145211428,0.5616568450657826,0.5549512761247555,0.5484175519801857,0.555465065565392,0.5534241234838481,0.5538795489720792,0.5544736564748478,0.563833287623372,0.5590265210640933,0.5498682458124392,0.5621270360651042,0.559409014539256,0.549018230720993,0.5585014664527005,0.5551121266490151,0.5538811659020341,0.5553977534456073,0.5578463056659442,0.5546497615306953,0.5511535141024628,0.5479036190974638,0.5510174196685421,0.5443910323920168,0.5459845995217535,0.5439138166666674,0.5510494970354216],\"type\":\"scatter\"},{\"mode\":\"lines\",\"name\":\"h128_i10_lr0.01 - Train Loss\",\"x\":[0,1,2,3,4,5,6,7,8,9,10,11,12,13,14,15,16,17,18,19,20,21,22,23,24,25,26,27,28,29,30,31,32,33,34,35,36,37,38,39,40,41,42,43,44,45,46,47,48,49,50,51,52,53,54,55,56,57,58,59,60,61,62,63,64,65,66,67,68,69,70,71,72,73,74,75,76,77,78,79,80,81,82,83,84,85,86,87,88,89,90,91,92,93,94,95,96,97,98,99],\"y\":[0.6818030678465467,0.6760610117102569,1.736553310062686,0.6953718888256214,0.6804659831984452,0.659289307724969,0.6726205482315825,0.6735273950397701,0.6765828505359248,0.6748079064721367,0.6735697858845555,0.662197823794383,0.6754877703316235,0.6864717969033275,0.6717576389364155,0.6750096311359286,0.6748285083115262,0.6750732087274982,0.6748112609872706,0.6750735184788597,0.6744411579682178,0.674440831668936,0.6747509085264489,0.6737148508442915,0.6717460171017471,0.6491668674181093,0.6443141460525807,0.630552489213438,0.6230921884538457,0.6039949980064865,0.6116557834069148,0.6168584851723797,0.6488939931771825,0.7238102341597935,0.6911584508386905,0.6832383197915521,0.6778249442845128,0.6748218273966567,0.6752987285508621,0.6776971568530032,0.6747697344901641,0.6752767416130607,0.6736057052072489,0.6755454375844546,0.676464670484171,0.6747612501197534,0.6758923929013975,0.676447884038238,0.674356397432137,0.6740435930596529,0.6744161643429265,0.6727975842552151,0.671216844280668,0.6556308766473872,0.666473025153161,0.7328611492896444,647.6475215922147,3.61133599195626,2.2096662807336074,0.8617972601991672,0.6764327523843298,0.6748899169473742,0.6746256196702373,0.674696939867676,0.6745276774571806,0.674643711152638,0.6751745929079664,0.6750007007749682,0.6746445799987807,0.6747063411213959,0.6746330146091217,0.6747735508475771,0.6747055001764392,0.675120966507311,0.6749139906903804,0.6747554172724084,0.6750463257474291,0.6748071341287523,0.6748389908566951,0.6745265132119178,0.6747338348750263,0.674745827618742,0.6749453409662787,0.6752281919965204,0.6752543621842966,0.6749541507255677,0.6750693615770297,0.6748925630080197,0.6743760329586691,0.6753018820810618,0.6746178903991,0.674777191175819,0.6751227549679731,0.6749524260466954,0.6749363205289369,0.6749974136832375,0.6747695839522877,0.6750524083130658,0.6747991774709826,0.6757947811112143],\"type\":\"scatter\"},{\"mode\":\"lines\",\"name\":\"h128_i10_lr0.001 - Train Loss\",\"x\":[0,1,2,3,4,5,6,7,8,9,10,11,12,13,14,15,16,17,18,19,20,21,22,23,24,25,26,27,28,29,30,31,32,33,34,35,36,37,38,39,40,41,42,43,44,45,46,47,48,49,50,51,52,53,54,55,56,57,58,59,60,61,62,63,64,65,66,67,68,69,70,71,72,73,74,75,76,77,78,79,80,81,82,83,84,85,86,87,88,89,90,91,92,93,94,95,96,97,98,99],\"y\":[0.6764634385477394,0.6575730912661831,0.6348361321536679,0.6300191300898549,0.632334248289158,0.6081288723075915,0.5773109130139621,0.5917526359292482,0.5675286177515663,0.5810460416668723,0.5882300015301288,0.5704097625166044,0.5557631311498027,0.5723767692937791,0.5760095979539747,0.5627713932823942,0.5653502725312438,0.5720498852652681,0.5694603407479361,0.5576512225019107,0.5655957818138417,0.5661025176365313,0.5703136491968304,0.5622316409849628,0.5639057675676097,0.5626636494523432,0.5704745923947988,0.5838962304945583,0.5656070436107502,0.5653527847090393,0.5697311072443801,0.5626099968106492,0.5566241168161823,0.5595492196854234,0.5620109209956506,0.5632081174250668,0.5629883840184756,0.5617120572284654,0.5562063455849431,0.554003194068213,0.5570701471557514,0.5572571848173561,0.5599625181851897,0.5636395993579751,0.5608147395321194,0.5571559737741894,0.5574716926156564,0.5582753329906823,0.5623550671290837,0.5623438713364203,0.5551877418082787,0.5639969488038529,0.5527176563255656,0.5530441723636754,0.5668624534546954,0.5647426031777587,0.5545555265069758,0.5590283355515815,0.5597515964658005,0.5566085400285746,0.551922994134454,0.5515860643669601,0.5474024492132696,0.5432269398628433,0.5497595674800958,0.5511892034679732,0.5501691988214971,0.5503975889325035,0.5463677292885485,0.5427772879386312,0.5510657908727966,0.5464161364001834,0.5505347446022222,0.5470169055654674,0.5476325235169746,0.5409431545346681,0.5526930632509847,0.5597081081565178,0.6458132430335368,0.5803762439768912,0.554535733052234,0.5500598932212254,0.5461035025408968,0.5469656494000101,0.5424442412825393,0.5431083074744928,0.5473122946442727,0.539331396715339,0.5415526755950736,0.5470865422396218,0.540832933925447,0.5377618558537499,0.540167644445894,0.5408561855206485,0.5346293540442193,0.5546112253873711,0.5438581687956379,0.5398475029719165,0.5468319654464722,0.5371152711203798],\"type\":\"scatter\"},{\"mode\":\"lines\",\"name\":\"h256_i5_lr0.01 - Train Loss\",\"x\":[0,1,2,3,4,5,6,7,8,9,10,11,12,13,14,15,16,17,18,19,20,21,22,23,24,25,26,27,28,29,30,31,32,33,34,35,36,37,38,39,40,41,42,43,44,45,46,47,48,49,50,51,52,53,54,55,56,57,58,59,60,61,62,63,64,65,66,67,68,69,70,71,72,73,74,75,76,77,78,79,80,81,82,83,84,85,86,87,88,89,90,91,92,93,94,95,96,97,98,99],\"y\":[3.7144790399963536,0.8351203052716971,0.6772469998691282,0.673503213065868,0.6745154845318276,0.6679466140238102,0.6841208591508309,0.674904033662174,0.6735327059046599,0.6716098394462469,0.6645400162655709,0.6457431207127327,0.6883347029634563,0.6706946716047254,0.6641662863065612,0.6524781587417342,0.6605651725120407,0.6417100416682159,0.6303543777799991,0.6105586124076997,0.6152425413183125,0.6450473049258929,0.5984035986881479,0.5920204410977119,0.612932448438557,0.5990958395886828,0.5716254485692404,0.5859228913996097,0.6072030036918558,0.6035708134921949,0.5784233707837553,0.5907470416829914,0.591367120370068,0.6171229580770391,0.5930661145674679,0.5791909066493299,0.5789775604186354,0.5712601463749724,0.604551426591042,0.5785240728578799,0.5794206551892845,0.5933709206713927,0.6417569713558255,0.6203969058857667,0.5843282443172527,0.5823711666670985,0.5817871367406545,0.5798800326850322,0.5915121668004175,0.570227453543705,0.5856733508508482,0.5739344511070663,0.5707513312445175,0.5735594760911056,0.5711191629677984,296459.1902277039,337295.46341444156,29467.848341949546,3338.363575907409,0.7281009539868097,0.7214336931866134,0.7039367205263363,0.6981379855675196,0.6900885120663467,0.6811751456594852,0.6867308686257265,0.6881164465524651,0.7028978579984735,0.7156733608095901,0.6936529985656635,0.6883020208209673,0.6871738859585353,0.6984422192954846,0.7237799062133371,0.6892014953968018,0.7288428525719038,0.6989166295860442,0.6813604124794109,0.6867227676422448,0.6857760607500067,0.6813488144758898,0.6858747383547814,0.6863588311065989,0.6959339086257544,0.681997790919267,0.6987250811434607,0.6817435923183918,0.6806426341214484,0.6780932382324849,0.6942634387586102,0.6858712974048796,0.6778517765497583,0.6868668751789446,0.6776579354972531,0.6798912219281467,0.6914339964173446,0.6888091167349699,0.6937319636880441,0.6891034838324287,0.682217123962584],\"type\":\"scatter\"},{\"mode\":\"lines\",\"name\":\"h256_i5_lr0.001 - Train Loss\",\"x\":[0,1,2,3,4,5,6,7,8,9,10,11,12,13,14,15,16,17,18,19,20,21,22,23,24,25,26,27,28,29,30,31,32,33,34,35,36,37,38,39,40,41,42,43,44,45,46,47,48,49,50,51,52,53,54,55,56,57,58,59,60,61,62,63,64,65,66,67,68,69,70,71,72,73,74,75,76,77,78,79,80,81,82,83,84,85,86,87,88,89,90,91,92,93,94,95,96,97,98,99],\"y\":[0.6716000607499965,0.656069483397142,0.6425650969669825,0.6278744219983898,0.6111666966641367,0.616427956030161,0.5898364155761636,0.5844119787216187,0.5780383293305231,0.5821825452249326,0.5881181002627165,0.5819259996576986,0.5933032547795655,0.5778914550244005,0.5768444166993195,0.5673376316437289,0.5815738048622014,0.5697640896057719,0.5721608096163013,0.5693126556472744,0.5697114284469111,0.5782179866196975,0.5696942374070058,0.5739006780335631,0.5740198944456815,0.5751043378717708,0.5704671943498322,0.5610242647195013,0.5664214020576546,0.5582543936326283,0.5689089538701889,0.5612844020958324,0.5604597776726571,0.5607125553480699,0.5616046396709196,0.5655162846410157,0.5641723928532939,0.5613460928496218,0.5604406642356866,0.5722859602518587,0.5772979637040604,0.5616383293354072,0.5682874823730483,0.5635153952741666,0.5553876103202395,0.5539881442970557,0.5601761150445792,0.5662025619977675,0.5534931576048482,0.5528458129256455,0.5584515013463414,0.5581455696089677,0.5611922135785797,0.5650737723678698,0.5670468438774856,0.5645179847072934,0.5619784778340486,0.553452122190035,0.5537749373045251,0.5537253331195526,0.551223943711184,0.5737628475139511,0.5637780434894647,0.5487745564367358,0.5685605774135709,0.5503957614316023,0.5430530595918657,0.5453097694432103,0.5322996149540804,0.549462424723393,0.5542514590347338,0.5529859976948432,0.5493059744196547,0.540935381912264,0.5360185083031975,0.536187257567506,0.5427476180531586,0.5503445813919334,0.5353931869243783,0.5332969841342302,0.5376732432403118,0.5425037660795831,0.5360267234619737,0.5394850243133997,0.5346274841827845,0.5329441002972578,0.5309280080508243,0.5369275432391308,0.5273388399803628,0.5254845899552348,0.5271045718231613,0.5324934621919734,0.5179502461155792,0.5182015380662299,0.5396944881021066,0.5306013065314142,0.5257662956980254,0.5152792734598535,0.5216968663886979,0.5177968222068862],\"type\":\"scatter\"},{\"mode\":\"lines\",\"name\":\"h256_i10_lr0.01 - Train Loss\",\"x\":[0,1,2,3,4,5,6,7,8,9,10,11,12,13,14,15,16,17,18,19,20,21,22,23,24,25,26,27,28,29,30,31,32,33,34,35,36,37,38,39,40,41,42,43,44,45,46,47,48,49,50,51,52,53,54,55,56,57,58,59,60,61,62,63,64,65,66,67,68,69,70,71,72,73,74,75,76,77,78,79,80,81,82,83,84,85,86,87,88,89,90,91,92,93,94,95,96,97,98,99],\"y\":[202.44221771668444,0.9447754156664483,0.6825563602370394,0.6793898066099121,0.6746502295337276,0.6836311615809383,0.6811317000856083,0.6742877759380803,0.6851664083773021,0.6762033406936255,0.684356826816929,0.6780814827291792,0.6790732194578337,0.6757978763755976,0.6816135527631343,0.6762784617716198,0.6755003036407341,0.6775755986156276,0.6772969207673702,0.6766368031287557,0.6781777846631121,0.6798441767264141,0.6757131058786329,0.679798295287966,0.6789181991835918,0.6778401936482227,0.6768660206893277,0.6777190198152856,0.6779044449918461,0.6750943862095891,0.6806963813379876,0.6784832555221633,0.6768833492001434,0.6780770462799587,0.6773579760596009,0.6782336416056,0.676910377041456,0.676701542662803,0.6776469588708149,0.676863122393393,0.6785573868310248,0.6773952605589381,0.6759897025983181,0.6766156371605899,0.6773278763030739,0.6775622734162364,0.6755223934005641,0.6782642202878577,0.6768274843317907,0.6779867530083292,0.6761247594401522,0.6763321091115528,0.6755133921352465,0.6760265800937917,0.6750734230471642,0.6785122456040772,0.67903102290384,0.6791464197989101,0.6753739932048246,0.6785740628503832,0.6773201742369317,0.6762108915792535,0.6770931028184437,0.6772614507555211,0.6776742484798757,0.6778587800151897,110384555587958.23,2.9743174662823456e+16,1024774245176749.6,377157817847.25964,272280341302.51212,255983960196.48517,240809043796.87332,226297582506.43665,212420638839.60468,199364972407.8347,186563724794.9398,174492385397.7646,162744971665.13568,151453030357.67834,140572586753.15005,130005958884.16891,119522815223.48967,109008496053.01707,98069324607.7125,86438214649.55975,75721558058.32166,62261892883.550766,46079981212.86613,44184761381.72147,44078902412.765495,43275929436.233604,42284122465.2938,40889085190.21024,39824718357.62084,39142779936.201256,38239252640.54627,36323118721.26505,34978858348.33423,33242102048.891285],\"type\":\"scatter\"},{\"mode\":\"lines\",\"name\":\"h256_i10_lr0.001 - Train Loss\",\"x\":[0,1,2,3,4,5,6,7,8,9,10,11,12,13,14,15,16,17,18,19,20,21,22,23,24,25,26,27,28,29,30,31,32,33,34,35,36,37,38,39,40,41,42,43,44,45,46,47,48,49,50,51,52,53,54,55,56,57,58,59,60,61,62,63,64,65,66,67,68,69,70,71,72,73,74,75,76,77,78,79,80,81,82,83,84,85,86,87,88,89,90,91,92,93,94,95,96,97,98,99],\"y\":[0.6802049958266766,0.6737041548363067,0.6643016840676842,0.6412228895861719,0.6284221762595472,0.6065460247492211,0.5842201593537001,0.6068361456717657,0.6270726097669027,0.6240957811514964,0.5756898885467303,0.5726398815202585,0.5877497573747147,0.5715886001531219,0.5598970805324098,0.560350442457499,0.5648892643156077,0.5702619063672136,0.5699820305887686,0.5711309780221958,0.5552377313616462,0.5621112845871541,0.5607030379911424,0.580218599116813,0.5715250272742286,0.5572250238540252,0.5689689274960986,0.5668007941901523,0.5572307947939404,0.5573102744548897,0.5675122785546816,0.5696522003342628,0.5672746509554573,0.5555607546371912,0.561264262902019,0.5643650614936825,0.5772554498209358,0.7785567956686235,0.6779520971113138,0.64255551641735,0.6351271657823766,0.6247551925313012,0.6027125644448204,0.5846592529014971,0.5829643346871327,0.5690629864638707,0.5599539721215617,0.5714945130431749,0.564502524719084,0.5589574402447552,0.5540690592089325,0.5577096009939936,0.5617917552791194,0.5510208044947532,0.5555524391198309,0.5645221960726667,0.5645809093789805,0.5614584460787589,0.5603121678677102,0.5475224898082119,0.5472470856634004,0.5520306671940306,0.5549020032998365,0.5546233169901832,0.5562406550734726,0.553085289072155,0.54429244122201,0.5684033456088612,0.5543787439771312,0.57657415665492,0.5774561104106132,0.7808000428228901,0.6053036776942813,0.6003417024072611,0.5915914594538021,0.578503973989581,0.5701275604968657,0.5690527437296625,0.5818527811085545,0.5725234157848443,0.5655106277157355,0.5632312445359946,0.5618466437130711,0.5583079992814419,0.5643617158951464,0.5576840515942157,0.5657337038557698,0.5600104951044513,0.5583883085340824,0.5744923381578355,0.5640812981053718,0.5596661397389003,0.5538916606037657,0.550045261967857,0.5574514775905969,0.5513353063143381,0.55822246918674,0.5565357185759634,0.5604513933930649,0.5517423006455746],\"type\":\"scatter\"}],                        {\"template\":{\"data\":{\"histogram2dcontour\":[{\"type\":\"histogram2dcontour\",\"colorbar\":{\"outlinewidth\":0,\"ticks\":\"\"},\"colorscale\":[[0.0,\"#0d0887\"],[0.1111111111111111,\"#46039f\"],[0.2222222222222222,\"#7201a8\"],[0.3333333333333333,\"#9c179e\"],[0.4444444444444444,\"#bd3786\"],[0.5555555555555556,\"#d8576b\"],[0.6666666666666666,\"#ed7953\"],[0.7777777777777778,\"#fb9f3a\"],[0.8888888888888888,\"#fdca26\"],[1.0,\"#f0f921\"]]}],\"choropleth\":[{\"type\":\"choropleth\",\"colorbar\":{\"outlinewidth\":0,\"ticks\":\"\"}}],\"histogram2d\":[{\"type\":\"histogram2d\",\"colorbar\":{\"outlinewidth\":0,\"ticks\":\"\"},\"colorscale\":[[0.0,\"#0d0887\"],[0.1111111111111111,\"#46039f\"],[0.2222222222222222,\"#7201a8\"],[0.3333333333333333,\"#9c179e\"],[0.4444444444444444,\"#bd3786\"],[0.5555555555555556,\"#d8576b\"],[0.6666666666666666,\"#ed7953\"],[0.7777777777777778,\"#fb9f3a\"],[0.8888888888888888,\"#fdca26\"],[1.0,\"#f0f921\"]]}],\"heatmap\":[{\"type\":\"heatmap\",\"colorbar\":{\"outlinewidth\":0,\"ticks\":\"\"},\"colorscale\":[[0.0,\"#0d0887\"],[0.1111111111111111,\"#46039f\"],[0.2222222222222222,\"#7201a8\"],[0.3333333333333333,\"#9c179e\"],[0.4444444444444444,\"#bd3786\"],[0.5555555555555556,\"#d8576b\"],[0.6666666666666666,\"#ed7953\"],[0.7777777777777778,\"#fb9f3a\"],[0.8888888888888888,\"#fdca26\"],[1.0,\"#f0f921\"]]}],\"heatmapgl\":[{\"type\":\"heatmapgl\",\"colorbar\":{\"outlinewidth\":0,\"ticks\":\"\"},\"colorscale\":[[0.0,\"#0d0887\"],[0.1111111111111111,\"#46039f\"],[0.2222222222222222,\"#7201a8\"],[0.3333333333333333,\"#9c179e\"],[0.4444444444444444,\"#bd3786\"],[0.5555555555555556,\"#d8576b\"],[0.6666666666666666,\"#ed7953\"],[0.7777777777777778,\"#fb9f3a\"],[0.8888888888888888,\"#fdca26\"],[1.0,\"#f0f921\"]]}],\"contourcarpet\":[{\"type\":\"contourcarpet\",\"colorbar\":{\"outlinewidth\":0,\"ticks\":\"\"}}],\"contour\":[{\"type\":\"contour\",\"colorbar\":{\"outlinewidth\":0,\"ticks\":\"\"},\"colorscale\":[[0.0,\"#0d0887\"],[0.1111111111111111,\"#46039f\"],[0.2222222222222222,\"#7201a8\"],[0.3333333333333333,\"#9c179e\"],[0.4444444444444444,\"#bd3786\"],[0.5555555555555556,\"#d8576b\"],[0.6666666666666666,\"#ed7953\"],[0.7777777777777778,\"#fb9f3a\"],[0.8888888888888888,\"#fdca26\"],[1.0,\"#f0f921\"]]}],\"surface\":[{\"type\":\"surface\",\"colorbar\":{\"outlinewidth\":0,\"ticks\":\"\"},\"colorscale\":[[0.0,\"#0d0887\"],[0.1111111111111111,\"#46039f\"],[0.2222222222222222,\"#7201a8\"],[0.3333333333333333,\"#9c179e\"],[0.4444444444444444,\"#bd3786\"],[0.5555555555555556,\"#d8576b\"],[0.6666666666666666,\"#ed7953\"],[0.7777777777777778,\"#fb9f3a\"],[0.8888888888888888,\"#fdca26\"],[1.0,\"#f0f921\"]]}],\"mesh3d\":[{\"type\":\"mesh3d\",\"colorbar\":{\"outlinewidth\":0,\"ticks\":\"\"}}],\"scatter\":[{\"fillpattern\":{\"fillmode\":\"overlay\",\"size\":10,\"solidity\":0.2},\"type\":\"scatter\"}],\"parcoords\":[{\"type\":\"parcoords\",\"line\":{\"colorbar\":{\"outlinewidth\":0,\"ticks\":\"\"}}}],\"scatterpolargl\":[{\"type\":\"scatterpolargl\",\"marker\":{\"colorbar\":{\"outlinewidth\":0,\"ticks\":\"\"}}}],\"bar\":[{\"error_x\":{\"color\":\"#2a3f5f\"},\"error_y\":{\"color\":\"#2a3f5f\"},\"marker\":{\"line\":{\"color\":\"#E5ECF6\",\"width\":0.5},\"pattern\":{\"fillmode\":\"overlay\",\"size\":10,\"solidity\":0.2}},\"type\":\"bar\"}],\"scattergeo\":[{\"type\":\"scattergeo\",\"marker\":{\"colorbar\":{\"outlinewidth\":0,\"ticks\":\"\"}}}],\"scatterpolar\":[{\"type\":\"scatterpolar\",\"marker\":{\"colorbar\":{\"outlinewidth\":0,\"ticks\":\"\"}}}],\"histogram\":[{\"marker\":{\"pattern\":{\"fillmode\":\"overlay\",\"size\":10,\"solidity\":0.2}},\"type\":\"histogram\"}],\"scattergl\":[{\"type\":\"scattergl\",\"marker\":{\"colorbar\":{\"outlinewidth\":0,\"ticks\":\"\"}}}],\"scatter3d\":[{\"type\":\"scatter3d\",\"line\":{\"colorbar\":{\"outlinewidth\":0,\"ticks\":\"\"}},\"marker\":{\"colorbar\":{\"outlinewidth\":0,\"ticks\":\"\"}}}],\"scattermapbox\":[{\"type\":\"scattermapbox\",\"marker\":{\"colorbar\":{\"outlinewidth\":0,\"ticks\":\"\"}}}],\"scatterternary\":[{\"type\":\"scatterternary\",\"marker\":{\"colorbar\":{\"outlinewidth\":0,\"ticks\":\"\"}}}],\"scattercarpet\":[{\"type\":\"scattercarpet\",\"marker\":{\"colorbar\":{\"outlinewidth\":0,\"ticks\":\"\"}}}],\"carpet\":[{\"aaxis\":{\"endlinecolor\":\"#2a3f5f\",\"gridcolor\":\"white\",\"linecolor\":\"white\",\"minorgridcolor\":\"white\",\"startlinecolor\":\"#2a3f5f\"},\"baxis\":{\"endlinecolor\":\"#2a3f5f\",\"gridcolor\":\"white\",\"linecolor\":\"white\",\"minorgridcolor\":\"white\",\"startlinecolor\":\"#2a3f5f\"},\"type\":\"carpet\"}],\"table\":[{\"cells\":{\"fill\":{\"color\":\"#EBF0F8\"},\"line\":{\"color\":\"white\"}},\"header\":{\"fill\":{\"color\":\"#C8D4E3\"},\"line\":{\"color\":\"white\"}},\"type\":\"table\"}],\"barpolar\":[{\"marker\":{\"line\":{\"color\":\"#E5ECF6\",\"width\":0.5},\"pattern\":{\"fillmode\":\"overlay\",\"size\":10,\"solidity\":0.2}},\"type\":\"barpolar\"}],\"pie\":[{\"automargin\":true,\"type\":\"pie\"}]},\"layout\":{\"autotypenumbers\":\"strict\",\"colorway\":[\"#636efa\",\"#EF553B\",\"#00cc96\",\"#ab63fa\",\"#FFA15A\",\"#19d3f3\",\"#FF6692\",\"#B6E880\",\"#FF97FF\",\"#FECB52\"],\"font\":{\"color\":\"#2a3f5f\"},\"hovermode\":\"closest\",\"hoverlabel\":{\"align\":\"left\"},\"paper_bgcolor\":\"white\",\"plot_bgcolor\":\"#E5ECF6\",\"polar\":{\"bgcolor\":\"#E5ECF6\",\"angularaxis\":{\"gridcolor\":\"white\",\"linecolor\":\"white\",\"ticks\":\"\"},\"radialaxis\":{\"gridcolor\":\"white\",\"linecolor\":\"white\",\"ticks\":\"\"}},\"ternary\":{\"bgcolor\":\"#E5ECF6\",\"aaxis\":{\"gridcolor\":\"white\",\"linecolor\":\"white\",\"ticks\":\"\"},\"baxis\":{\"gridcolor\":\"white\",\"linecolor\":\"white\",\"ticks\":\"\"},\"caxis\":{\"gridcolor\":\"white\",\"linecolor\":\"white\",\"ticks\":\"\"}},\"coloraxis\":{\"colorbar\":{\"outlinewidth\":0,\"ticks\":\"\"}},\"colorscale\":{\"sequential\":[[0.0,\"#0d0887\"],[0.1111111111111111,\"#46039f\"],[0.2222222222222222,\"#7201a8\"],[0.3333333333333333,\"#9c179e\"],[0.4444444444444444,\"#bd3786\"],[0.5555555555555556,\"#d8576b\"],[0.6666666666666666,\"#ed7953\"],[0.7777777777777778,\"#fb9f3a\"],[0.8888888888888888,\"#fdca26\"],[1.0,\"#f0f921\"]],\"sequentialminus\":[[0.0,\"#0d0887\"],[0.1111111111111111,\"#46039f\"],[0.2222222222222222,\"#7201a8\"],[0.3333333333333333,\"#9c179e\"],[0.4444444444444444,\"#bd3786\"],[0.5555555555555556,\"#d8576b\"],[0.6666666666666666,\"#ed7953\"],[0.7777777777777778,\"#fb9f3a\"],[0.8888888888888888,\"#fdca26\"],[1.0,\"#f0f921\"]],\"diverging\":[[0,\"#8e0152\"],[0.1,\"#c51b7d\"],[0.2,\"#de77ae\"],[0.3,\"#f1b6da\"],[0.4,\"#fde0ef\"],[0.5,\"#f7f7f7\"],[0.6,\"#e6f5d0\"],[0.7,\"#b8e186\"],[0.8,\"#7fbc41\"],[0.9,\"#4d9221\"],[1,\"#276419\"]]},\"xaxis\":{\"gridcolor\":\"white\",\"linecolor\":\"white\",\"ticks\":\"\",\"title\":{\"standoff\":15},\"zerolinecolor\":\"white\",\"automargin\":true,\"zerolinewidth\":2},\"yaxis\":{\"gridcolor\":\"white\",\"linecolor\":\"white\",\"ticks\":\"\",\"title\":{\"standoff\":15},\"zerolinecolor\":\"white\",\"automargin\":true,\"zerolinewidth\":2},\"scene\":{\"xaxis\":{\"backgroundcolor\":\"#E5ECF6\",\"gridcolor\":\"white\",\"linecolor\":\"white\",\"showbackground\":true,\"ticks\":\"\",\"zerolinecolor\":\"white\",\"gridwidth\":2},\"yaxis\":{\"backgroundcolor\":\"#E5ECF6\",\"gridcolor\":\"white\",\"linecolor\":\"white\",\"showbackground\":true,\"ticks\":\"\",\"zerolinecolor\":\"white\",\"gridwidth\":2},\"zaxis\":{\"backgroundcolor\":\"#E5ECF6\",\"gridcolor\":\"white\",\"linecolor\":\"white\",\"showbackground\":true,\"ticks\":\"\",\"zerolinecolor\":\"white\",\"gridwidth\":2}},\"shapedefaults\":{\"line\":{\"color\":\"#2a3f5f\"}},\"annotationdefaults\":{\"arrowcolor\":\"#2a3f5f\",\"arrowhead\":0,\"arrowwidth\":1},\"geo\":{\"bgcolor\":\"white\",\"landcolor\":\"#E5ECF6\",\"subunitcolor\":\"white\",\"showland\":true,\"showlakes\":true,\"lakecolor\":\"white\"},\"title\":{\"x\":0.05},\"mapbox\":{\"style\":\"light\"}}},\"title\":{\"text\":\"Training Loss\"},\"xaxis\":{\"title\":{\"text\":\"Epochs\"}},\"yaxis\":{\"title\":{\"text\":\"Metrics\"}},\"showlegend\":true,\"legend\":{\"title\":{\"text\":\"Hyperparameter Configurations\"}}},                        {\"responsive\": true}                    ).then(function(){\n",
              "                            \n",
              "var gd = document.getElementById('54b523bd-90a2-426a-8165-7084693d506e');\n",
              "var x = new MutationObserver(function (mutations, observer) {{\n",
              "        var display = window.getComputedStyle(gd).display;\n",
              "        if (!display || display === 'none') {{\n",
              "            console.log([gd, 'removed!']);\n",
              "            Plotly.purge(gd);\n",
              "            observer.disconnect();\n",
              "        }}\n",
              "}});\n",
              "\n",
              "// Listen for the removal of the full notebook cells\n",
              "var notebookContainer = gd.closest('#notebook-container');\n",
              "if (notebookContainer) {{\n",
              "    x.observe(notebookContainer, {childList: true});\n",
              "}}\n",
              "\n",
              "// Listen for the clearing of the current output cell\n",
              "var outputEl = gd.closest('.output');\n",
              "if (outputEl) {{\n",
              "    x.observe(outputEl, {childList: true});\n",
              "}}\n",
              "\n",
              "                        })                };                            </script>        </div>\n",
              "</body>\n",
              "</html>"
            ]
          },
          "metadata": {}
        }
      ]
    },
    {
      "cell_type": "code",
      "source": [
        "# Create interactive plots using Plotly\n",
        "fig = go.Figure()\n",
        "\n",
        "# Plot Training Loss\n",
        "for label, data in loaded_results.items():\n",
        "    fig.add_trace(go.Scatter(x=epochs, y=data['test_accuracies'], mode='lines', name=f'{label} - Test Accuracy'))\n",
        "\n",
        "# Customize layout\n",
        "fig.update_layout(\n",
        "    title=\"Test Accuracies\",\n",
        "    xaxis_title=\"Epochs\",\n",
        "    yaxis_title=\"Metrics\",\n",
        "    showlegend=True,\n",
        "    legend_title=\"Hyperparameter Configurations\",\n",
        "\n",
        ")\n",
        "\n",
        "# Show the figure\n",
        "fig.show()"
      ],
      "metadata": {
        "colab": {
          "base_uri": "https://localhost:8080/",
          "height": 542
        },
        "id": "fdli0EmnMfow",
        "outputId": "b1cd3e74-d777-4a12-fa54-b5c22caaeac1"
      },
      "execution_count": null,
      "outputs": [
        {
          "output_type": "display_data",
          "data": {
            "text/html": [
              "<html>\n",
              "<head><meta charset=\"utf-8\" /></head>\n",
              "<body>\n",
              "    <div>            <script src=\"https://cdnjs.cloudflare.com/ajax/libs/mathjax/2.7.5/MathJax.js?config=TeX-AMS-MML_SVG\"></script><script type=\"text/javascript\">if (window.MathJax && window.MathJax.Hub && window.MathJax.Hub.Config) {window.MathJax.Hub.Config({SVG: {font: \"STIX-Web\"}});}</script>                <script type=\"text/javascript\">window.PlotlyConfig = {MathJaxConfig: 'local'};</script>\n",
              "        <script charset=\"utf-8\" src=\"https://cdn.plot.ly/plotly-2.24.1.min.js\"></script>                <div id=\"df291a2a-2b03-4f59-b1a8-bb99fbad23dc\" class=\"plotly-graph-div\" style=\"height:525px; width:100%;\"></div>            <script type=\"text/javascript\">                                    window.PLOTLYENV=window.PLOTLYENV || {};                                    if (document.getElementById(\"df291a2a-2b03-4f59-b1a8-bb99fbad23dc\")) {                    Plotly.newPlot(                        \"df291a2a-2b03-4f59-b1a8-bb99fbad23dc\",                        [{\"mode\":\"lines\",\"name\":\"h64_i5_lr0.01 - Test Accuracy\",\"x\":[0,1,2,3,4,5,6,7,8,9,10,11,12,13,14,15,16,17,18,19,20,21,22,23,24,25,26,27,28,29,30,31,32,33,34,35,36,37,38,39,40,41,42,43,44,45,46,47,48,49,50,51,52,53,54,55,56,57,58,59,60,61,62,63,64,65,66,67,68,69,70,71,72,73,74,75,76,77,78,79,80,81,82,83,84,85,86,87,88,89,90,91,92,93,94,95,96,97,98,99],\"y\":[0.5956873315363881,0.6415094339622641,0.7124887690925427,0.7223719676549866,0.6747529200359389,0.6756513926325247,0.7196765498652291,0.7196765498652291,0.7376460017969452,0.7250673854447439,0.683737646001797,0.6972147349505841,0.7124887690925427,0.7367475292003594,0.7178796046720575,0.7250673854447439,0.6657681940700808,0.7079964061096137,0.6666666666666666,0.7214734950584007,0.7214734950584007,0.7331536388140162,0.7259658580413297,0.7241689128481581,0.701707097933513,0.7053009883198562,0.706199460916442,0.7097933513027853,0.7313566936208445,0.7187780772686433,0.7304582210242587,0.6981132075471698,0.6289308176100629,0.6469002695417789,0.651392632524708,0.6460017969451932,0.6666666666666666,0.6594788858939802,0.6406109613656783,0.655884995507637,0.6684636118598383,0.5956873315363881,0.633423180592992,0.6720575022461814,0.5956873315363881,0.6469002695417789,0.6711590296495957,0.6325247079964061,0.6666666666666666,0.6684636118598383,0.6549865229110512,0.5956873315363881,0.5956873315363881,0.5956873315363881,0.5956873315363881,0.5956873315363881,0.5956873315363881,0.5956873315363881,0.5956873315363881,0.5956873315363881,0.5956873315363881,0.5956873315363881,0.5956873315363881,0.5956873315363881,0.5956873315363881,0.5956873315363881,0.5956873315363881,0.5956873315363881,0.5956873315363881,0.5956873315363881,0.5956873315363881,0.5956873315363881,0.5956873315363881,0.5956873315363881,0.5956873315363881,0.5956873315363881,0.5956873315363881,0.5956873315363881,0.5956873315363881,0.5956873315363881,0.5956873315363881,0.5956873315363881,0.5956873315363881,0.5956873315363881,0.5956873315363881,0.5956873315363881,0.5956873315363881,0.5956873315363881,0.5956873315363881,0.5956873315363881,0.5956873315363881,0.5956873315363881,0.5956873315363881,0.5956873315363881,0.5956873315363881,0.5956873315363881,0.5956873315363881,0.5956873315363881,0.5956873315363881,0.5956873315363881],\"type\":\"scatter\"},{\"mode\":\"lines\",\"name\":\"h64_i5_lr0.001 - Test Accuracy\",\"x\":[0,1,2,3,4,5,6,7,8,9,10,11,12,13,14,15,16,17,18,19,20,21,22,23,24,25,26,27,28,29,30,31,32,33,34,35,36,37,38,39,40,41,42,43,44,45,46,47,48,49,50,51,52,53,54,55,56,57,58,59,60,61,62,63,64,65,66,67,68,69,70,71,72,73,74,75,76,77,78,79,80,81,82,83,84,85,86,87,88,89,90,91,92,93,94,95,96,97,98,99],\"y\":[0.5956873315363881,0.5956873315363881,0.5956873315363881,0.7008086253369272,0.7196765498652291,0.6684636118598383,0.7205750224618149,0.7151841868823001,0.7268643306379156,0.688230008984726,0.7160826594788859,0.7250673854447439,0.706199460916442,0.7304582210242587,0.7331536388140162,0.706199460916442,0.7196765498652291,0.7376460017969452,0.7196765498652291,0.7259658580413297,0.7259658580413297,0.7268643306379156,0.7331536388140162,0.7250673854447439,0.7358490566037735,0.7205750224618149,0.7223719676549866,0.7079964061096137,0.7187780772686433,0.7313566936208445,0.7241689128481581,0.7241689128481581,0.7259658580413297,0.7304582210242587,0.7295597484276729,0.7205750224618149,0.7160826594788859,0.7322551662174304,0.7259658580413297,0.7232704402515723,0.7349505840071878,0.7268643306379156,0.7349505840071878,0.7214734950584007,0.7241689128481581,0.7259658580413297,0.7151841868823001,0.7250673854447439,0.7187780772686433,0.7205750224618149,0.7205750224618149,0.7304582210242587,0.7367475292003594,0.738544474393531,0.7322551662174304,0.7349505840071878,0.7205750224618149,0.7358490566037735,0.7412398921832885,0.7250673854447439,0.7367475292003594,0.7394429469901168,0.7088948787061995,0.7259658580413297,0.7160826594788859,0.7439353099730458,0.7367475292003594,0.7367475292003594,0.7178796046720575,0.7358490566037735,0.7277628032345014,0.7358490566037735,0.7304582210242587,0.7349505840071878,0.7376460017969452,0.7376460017969452,0.7277628032345014,0.7403414195867026,0.7412398921832885,0.7241689128481581,0.7358490566037735,0.7277628032345014,0.7304582210242587,0.7349505840071878,0.7403414195867026,0.7196765498652291,0.7295597484276729,0.7367475292003594,0.7259658580413297,0.7376460017969452,0.7358490566037735,0.7304582210242587,0.7259658580413297,0.7322551662174304,0.7376460017969452,0.7349505840071878,0.7394429469901168,0.7331536388140162,0.7250673854447439,0.7331536388140162],\"type\":\"scatter\"},{\"mode\":\"lines\",\"name\":\"h64_i10_lr0.01 - Test Accuracy\",\"x\":[0,1,2,3,4,5,6,7,8,9,10,11,12,13,14,15,16,17,18,19,20,21,22,23,24,25,26,27,28,29,30,31,32,33,34,35,36,37,38,39,40,41,42,43,44,45,46,47,48,49,50,51,52,53,54,55,56,57,58,59,60,61,62,63,64,65,66,67,68,69,70,71,72,73,74,75,76,77,78,79,80,81,82,83,84,85,86,87,88,89,90,91,92,93,94,95,96,97,98,99],\"y\":[0.5956873315363881,0.5956873315363881,0.6145552560646901,0.3863432165318958,0.5956873315363881,0.5956873315363881,0.5956873315363881,0.6783468104222821,0.5175202156334232,0.6486972147349506,0.6307277628032345,0.6666666666666666,0.6549865229110512,0.6567834681042228,0.6082659478885895,0.5956873315363881,0.6415094339622641,0.7035040431266847,0.7008086253369272,0.7142857142857143,0.6846361185983828,0.7124887690925427,0.7160826594788859,0.706199460916442,0.7053009883198562,0.710691823899371,0.7079964061096137,0.6711590296495957,0.7196765498652291,0.7214734950584007,0.7187780772686433,0.6774483378256964,0.6424079065588499,0.7250673854447439,0.7133872416891285,0.7088948787061995,0.7169811320754716,0.6792452830188679,0.7097933513027853,0.7205750224618149,0.7133872416891285,0.7035040431266847,0.7169811320754716,0.7070979335130279,0.7187780772686433,0.706199460916442,0.7160826594788859,0.6693620844564241,0.710691823899371,0.7205750224618149,0.7196765498652291,0.7097933513027853,0.7008086253369272,0.6855345911949685,0.7151841868823001,0.7097933513027853,0.6819407008086253,0.7124887690925427,0.7250673854447439,0.7124887690925427,0.7151841868823001,0.6774483378256964,0.6945193171608266,0.7214734950584007,0.6909254267744834,0.6936208445642408,0.6810422282120395,0.6864330637915543,0.7259658580413297,0.7142857142857143,0.7178796046720575,0.7088948787061995,0.3710691823899371,0.7097933513027853,0.7142857142857143,0.7178796046720575,0.7205750224618149,0.7196765498652291,0.7151841868823001,0.7133872416891285,0.688230008984726,0.7124887690925427,0.7088948787061995,0.706199460916442,0.7331536388140162,0.7097933513027853,0.7367475292003594,0.7187780772686433,0.6909254267744834,0.7142857142857143,0.7070979335130279,0.7026055705300989,0.7115902964959568,0.692722371967655,0.7259658580413297,0.7232704402515723,0.7079964061096137,0.688230008984726,0.7115902964959568,0.7124887690925427],\"type\":\"scatter\"},{\"mode\":\"lines\",\"name\":\"h64_i10_lr0.001 - Test Accuracy\",\"x\":[0,1,2,3,4,5,6,7,8,9,10,11,12,13,14,15,16,17,18,19,20,21,22,23,24,25,26,27,28,29,30,31,32,33,34,35,36,37,38,39,40,41,42,43,44,45,46,47,48,49,50,51,52,53,54,55,56,57,58,59,60,61,62,63,64,65,66,67,68,69,70,71,72,73,74,75,76,77,78,79,80,81,82,83,84,85,86,87,88,89,90,91,92,93,94,95,96,97,98,99],\"y\":[0.5956873315363881,0.5956873315363881,0.6262353998203055,0.6711590296495957,0.6091644204851752,0.7304582210242587,0.7124887690925427,0.7097933513027853,0.7124887690925427,0.7151841868823001,0.7079964061096137,0.7160826594788859,0.7088948787061995,0.6900269541778976,0.7259658580413297,0.7250673854447439,0.6990116801437556,0.738544474393531,0.7187780772686433,0.7214734950584007,0.7223719676549866,0.7196765498652291,0.6990116801437556,0.7322551662174304,0.7070979335130279,0.701707097933513,0.7178796046720575,0.7205750224618149,0.7250673854447439,0.7178796046720575,0.7349505840071878,0.734052111410602,0.7196765498652291,0.7232704402515723,0.7358490566037735,0.7268643306379156,0.7376460017969452,0.7313566936208445,0.7322551662174304,0.7313566936208445,0.734052111410602,0.7169811320754716,0.7286612758310872,0.734052111410602,0.7241689128481581,0.7268643306379156,0.7376460017969452,0.7223719676549866,0.7313566936208445,0.7331536388140162,0.7322551662174304,0.7241689128481581,0.7250673854447439,0.7322551662174304,0.7304582210242587,0.7313566936208445,0.7268643306379156,0.7277628032345014,0.734052111410602,0.7214734950584007,0.7259658580413297,0.7304582210242587,0.7205750224618149,0.7232704402515723,0.7250673854447439,0.7286612758310872,0.7394429469901168,0.7295597484276729,0.7286612758310872,0.7151841868823001,0.7349505840071878,0.7160826594788859,0.7304582210242587,0.7169811320754716,0.7376460017969452,0.7223719676549866,0.7178796046720575,0.7403414195867026,0.7331536388140162,0.7070979335130279,0.7250673854447439,0.7358490566037735,0.7187780772686433,0.7295597484276729,0.7331536388140162,0.734052111410602,0.7313566936208445,0.7268643306379156,0.7331536388140162,0.7358490566037735,0.7304582210242587,0.7331536388140162,0.7331536388140162,0.7358490566037735,0.7349505840071878,0.7322551662174304,0.7322551662174304,0.7232704402515723,0.734052111410602,0.7331536388140162],\"type\":\"scatter\"},{\"mode\":\"lines\",\"name\":\"h128_i5_lr0.01 - Test Accuracy\",\"x\":[0,1,2,3,4,5,6,7,8,9,10,11,12,13,14,15,16,17,18,19,20,21,22,23,24,25,26,27,28,29,30,31,32,33,34,35,36,37,38,39,40,41,42,43,44,45,46,47,48,49,50,51,52,53,54,55,56,57,58,59,60,61,62,63,64,65,66,67,68,69,70,71,72,73,74,75,76,77,78,79,80,81,82,83,84,85,86,87,88,89,90,91,92,93,94,95,96,97,98,99],\"y\":[0.5956873315363881,0.5956873315363881,0.6666666666666666,0.6594788858939802,0.5956873315363881,0.7124887690925427,0.660377358490566,0.6361185983827493,0.7079964061096137,0.6594788858939802,0.5956873315363881,0.40431266846361186,0.5956873315363881,0.5956873315363881,0.5956873315363881,0.5956873315363881,0.5956873315363881,0.5956873315363881,0.5956873315363881,0.5956873315363881,0.5956873315363881,0.5956873315363881,0.5956873315363881,0.5956873315363881,0.5956873315363881,0.5956873315363881,0.5956873315363881,0.5956873315363881,0.5956873315363881,0.5956873315363881,0.5956873315363881,0.5956873315363881,0.5956873315363881,0.5956873315363881,0.5956873315363881,0.5956873315363881,0.5956873315363881,0.5956873315363881,0.5956873315363881,0.5956873315363881,0.5956873315363881,0.5956873315363881,0.5956873315363881,0.5956873315363881,0.5956873315363881,0.5956873315363881,0.5956873315363881,0.5956873315363881,0.5956873315363881,0.5956873315363881,0.5956873315363881,0.5956873315363881,0.5956873315363881,0.5956873315363881,0.5956873315363881,0.5956873315363881,0.5956873315363881,0.5956873315363881,0.5956873315363881,0.5956873315363881,0.5956873315363881,0.5956873315363881,0.5956873315363881,0.5956873315363881,0.5956873315363881,0.5956873315363881,0.5956873315363881,0.5956873315363881,0.5956873315363881,0.5956873315363881,0.5956873315363881,0.5956873315363881,0.5956873315363881,0.5956873315363881,0.5956873315363881,0.5956873315363881,0.5956873315363881,0.5956873315363881,0.5956873315363881,0.5956873315363881,0.5956873315363881,0.5956873315363881,0.5956873315363881,0.5956873315363881,0.5956873315363881,0.5956873315363881,0.5956873315363881,0.5956873315363881,0.5956873315363881,0.5956873315363881,0.5956873315363881,0.5956873315363881,0.5956873315363881,0.5956873315363881,0.5956873315363881,0.5956873315363881,0.5956873315363881,0.5956873315363881,0.5956873315363881,0.5956873315363881],\"type\":\"scatter\"},{\"mode\":\"lines\",\"name\":\"h128_i5_lr0.001 - Test Accuracy\",\"x\":[0,1,2,3,4,5,6,7,8,9,10,11,12,13,14,15,16,17,18,19,20,21,22,23,24,25,26,27,28,29,30,31,32,33,34,35,36,37,38,39,40,41,42,43,44,45,46,47,48,49,50,51,52,53,54,55,56,57,58,59,60,61,62,63,64,65,66,67,68,69,70,71,72,73,74,75,76,77,78,79,80,81,82,83,84,85,86,87,88,89,90,91,92,93,94,95,96,97,98,99],\"y\":[0.5956873315363881,0.637915543575921,0.6684636118598383,0.6172506738544474,0.7214734950584007,0.7421383647798742,0.7268643306379156,0.7268643306379156,0.7232704402515723,0.6738544474393531,0.7241689128481581,0.7214734950584007,0.7214734950584007,0.7223719676549866,0.710691823899371,0.7331536388140162,0.7286612758310872,0.734052111410602,0.7295597484276729,0.7169811320754716,0.7304582210242587,0.7115902964959568,0.7151841868823001,0.7313566936208445,0.7259658580413297,0.7241689128481581,0.7250673854447439,0.7008086253369272,0.7160826594788859,0.7349505840071878,0.7268643306379156,0.7313566936208445,0.7232704402515723,0.7223719676549866,0.7304582210242587,0.7241689128481581,0.7295597484276729,0.7277628032345014,0.7268643306379156,0.7331536388140162,0.7268643306379156,0.6999101527403414,0.7322551662174304,0.7277628032345014,0.7259658580413297,0.7160826594788859,0.7268643306379156,0.7394429469901168,0.7295597484276729,0.7070979335130279,0.7214734950584007,0.7151841868823001,0.7367475292003594,0.7178796046720575,0.7322551662174304,0.7277628032345014,0.734052111410602,0.7331536388140162,0.7331536388140162,0.7331536388140162,0.7394429469901168,0.7367475292003594,0.7358490566037735,0.7376460017969452,0.7295597484276729,0.7286612758310872,0.7331536388140162,0.7349505840071878,0.7358490566037735,0.738544474393531,0.7160826594788859,0.7322551662174304,0.7358490566037735,0.734052111410602,0.7250673854447439,0.7403414195867026,0.7349505840071878,0.7376460017969452,0.7358490566037735,0.7214734950584007,0.7286612758310872,0.7241689128481581,0.7412398921832885,0.7268643306379156,0.7322551662174304,0.738544474393531,0.7349505840071878,0.7187780772686433,0.7421383647798742,0.7421383647798742,0.7358490566037735,0.7349505840071878,0.734052111410602,0.738544474393531,0.74303683737646,0.7367475292003594,0.7349505840071878,0.738544474393531,0.7304582210242587,0.7394429469901168],\"type\":\"scatter\"},{\"mode\":\"lines\",\"name\":\"h128_i10_lr0.01 - Test Accuracy\",\"x\":[0,1,2,3,4,5,6,7,8,9,10,11,12,13,14,15,16,17,18,19,20,21,22,23,24,25,26,27,28,29,30,31,32,33,34,35,36,37,38,39,40,41,42,43,44,45,46,47,48,49,50,51,52,53,54,55,56,57,58,59,60,61,62,63,64,65,66,67,68,69,70,71,72,73,74,75,76,77,78,79,80,81,82,83,84,85,86,87,88,89,90,91,92,93,94,95,96,97,98,99],\"y\":[0.5956873315363881,0.5956873315363881,0.3881401617250674,0.6451033243486074,0.5956873315363881,0.6549865229110512,0.6037735849056604,0.5956873315363881,0.5956873315363881,0.5956873315363881,0.5956873315363881,0.6019766397124887,0.5956873315363881,0.6244384546271339,0.5956873315363881,0.5956873315363881,0.5956873315363881,0.5956873315363881,0.5956873315363881,0.5956873315363881,0.5956873315363881,0.5956873315363881,0.5956873315363881,0.5956873315363881,0.637915543575921,0.6486972147349506,0.651392632524708,0.6504941599281222,0.6999101527403414,0.692722371967655,0.6451033243486074,0.6585804132973945,0.48966756513926324,0.6792452830188679,0.6424079065588499,0.5956873315363881,0.5956873315363881,0.5956873315363881,0.5956873315363881,0.5956873315363881,0.5956873315363881,0.5956873315363881,0.5956873315363881,0.5956873315363881,0.5956873315363881,0.5956873315363881,0.5956873315363881,0.5956873315363881,0.5956873315363881,0.5956873315363881,0.5956873315363881,0.5956873315363881,0.5956873315363881,0.6424079065588499,0.5956873315363881,0.40431266846361186,0.40431266846361186,0.40431266846361186,0.40431266846361186,0.5974842767295597,0.5965858041329739,0.5965858041329739,0.5965858041329739,0.5965858041329739,0.5965858041329739,0.5965858041329739,0.5965858041329739,0.5965858041329739,0.5965858041329739,0.5965858041329739,0.5965858041329739,0.5965858041329739,0.5965858041329739,0.5965858041329739,0.5965858041329739,0.5965858041329739,0.5965858041329739,0.5965858041329739,0.5965858041329739,0.5965858041329739,0.5965858041329739,0.5965858041329739,0.5965858041329739,0.5965858041329739,0.5965858041329739,0.5965858041329739,0.5965858041329739,0.5965858041329739,0.5965858041329739,0.5965858041329739,0.5965858041329739,0.5965858041329739,0.5965858041329739,0.5965858041329739,0.5965858041329739,0.5965858041329739,0.5965858041329739,0.5965858041329739,0.5965858041329739,0.5965858041329739],\"type\":\"scatter\"},{\"mode\":\"lines\",\"name\":\"h128_i10_lr0.001 - Test Accuracy\",\"x\":[0,1,2,3,4,5,6,7,8,9,10,11,12,13,14,15,16,17,18,19,20,21,22,23,24,25,26,27,28,29,30,31,32,33,34,35,36,37,38,39,40,41,42,43,44,45,46,47,48,49,50,51,52,53,54,55,56,57,58,59,60,61,62,63,64,65,66,67,68,69,70,71,72,73,74,75,76,77,78,79,80,81,82,83,84,85,86,87,88,89,90,91,92,93,94,95,96,97,98,99],\"y\":[0.5956873315363881,0.6091644204851752,0.633423180592992,0.6621743036837376,0.6415094339622641,0.7160826594788859,0.6460017969451932,0.7142857142857143,0.7322551662174304,0.7214734950584007,0.7214734950584007,0.7259658580413297,0.7295597484276729,0.6846361185983828,0.7044025157232704,0.7178796046720575,0.7223719676549866,0.7196765498652291,0.7250673854447439,0.7322551662174304,0.7268643306379156,0.7232704402515723,0.7331536388140162,0.7205750224618149,0.7232704402515723,0.7232704402515723,0.7133872416891285,0.7313566936208445,0.7178796046720575,0.706199460916442,0.7214734950584007,0.7268643306379156,0.7286612758310872,0.7367475292003594,0.7286612758310872,0.7277628032345014,0.7214734950584007,0.7295597484276729,0.734052111410602,0.7214734950584007,0.7322551662174304,0.7295597484276729,0.7178796046720575,0.7151841868823001,0.7241689128481581,0.7304582210242587,0.7376460017969452,0.7358490566037735,0.7286612758310872,0.7331536388140162,0.7250673854447439,0.7304582210242587,0.7349505840071878,0.7322551662174304,0.7223719676549866,0.7394429469901168,0.7358490566037735,0.7286612758310872,0.7349505840071878,0.7349505840071878,0.7376460017969452,0.738544474393531,0.74303683737646,0.7331536388140162,0.7268643306379156,0.7367475292003594,0.7403414195867026,0.738544474393531,0.7376460017969452,0.7367475292003594,0.7421383647798742,0.7376460017969452,0.692722371967655,0.74303683737646,0.7493261455525606,0.7403414195867026,0.6918238993710691,0.6109613656783468,0.6747529200359389,0.7394429469901168,0.7403414195867026,0.7484276729559748,0.7520215633423181,0.7394429469901168,0.7484276729559748,0.738544474393531,0.7511230907457322,0.7448337825696316,0.7412398921832885,0.7484276729559748,0.7358490566037735,0.74303683737646,0.7304582210242587,0.7511230907457322,0.7457322551662174,0.756513926325247,0.7502246181491464,0.7394429469901168,0.7466307277628033,0.7574123989218329],\"type\":\"scatter\"},{\"mode\":\"lines\",\"name\":\"h256_i5_lr0.01 - Test Accuracy\",\"x\":[0,1,2,3,4,5,6,7,8,9,10,11,12,13,14,15,16,17,18,19,20,21,22,23,24,25,26,27,28,29,30,31,32,33,34,35,36,37,38,39,40,41,42,43,44,45,46,47,48,49,50,51,52,53,54,55,56,57,58,59,60,61,62,63,64,65,66,67,68,69,70,71,72,73,74,75,76,77,78,79,80,81,82,83,84,85,86,87,88,89,90,91,92,93,94,95,96,97,98,99],\"y\":[0.5956873315363881,0.5956873315363881,0.5956873315363881,0.5956873315363881,0.5956873315363881,0.6352201257861635,0.5956873315363881,0.5956873315363881,0.5956873315363881,0.5956873315363881,0.5956873315363881,0.6253369272237197,0.5965858041329739,0.6127583108715184,0.6190476190476191,0.6343216531895777,0.6621743036837376,0.6702605570530099,0.6738544474393531,0.7035040431266847,0.6361185983827493,0.6639712488769093,0.706199460916442,0.6693620844564241,0.7295597484276729,0.7304582210242587,0.7304582210242587,0.7169811320754716,0.7223719676549866,0.7169811320754716,0.7367475292003594,0.6918238993710691,0.7268643306379156,0.7223719676549866,0.7142857142857143,0.7376460017969452,0.710691823899371,0.6702605570530099,0.7044025157232704,0.7232704402515723,0.6945193171608266,0.6747529200359389,0.6549865229110512,0.7133872416891285,0.7151841868823001,0.6765498652291105,0.7277628032345014,0.6963162623539982,0.7268643306379156,0.7070979335130279,0.7214734950584007,0.6846361185983828,0.7322551662174304,0.7304582210242587,0.5094339622641509,0.5956873315363881,0.5956873315363881,0.40431266846361186,0.5956873315363881,0.5956873315363881,0.5956873315363881,0.5956873315363881,0.5956873315363881,0.5956873315363881,0.5956873315363881,0.5956873315363881,0.5956873315363881,0.5956873315363881,0.5956873315363881,0.5956873315363881,0.5956873315363881,0.5956873315363881,0.40431266846361186,0.5956873315363881,0.5956873315363881,0.5956873315363881,0.5956873315363881,0.5956873315363881,0.5956873315363881,0.5956873315363881,0.5956873315363881,0.5956873315363881,0.5956873315363881,0.5956873315363881,0.5956873315363881,0.5956873315363881,0.5956873315363881,0.5956873315363881,0.5956873315363881,0.40431266846361186,0.5956873315363881,0.40431266846361186,0.5956873315363881,0.5956873315363881,0.5956873315363881,0.5956873315363881,0.5956873315363881,0.5956873315363881,0.5956873315363881,0.5956873315363881],\"type\":\"scatter\"},{\"mode\":\"lines\",\"name\":\"h256_i5_lr0.001 - Test Accuracy\",\"x\":[0,1,2,3,4,5,6,7,8,9,10,11,12,13,14,15,16,17,18,19,20,21,22,23,24,25,26,27,28,29,30,31,32,33,34,35,36,37,38,39,40,41,42,43,44,45,46,47,48,49,50,51,52,53,54,55,56,57,58,59,60,61,62,63,64,65,66,67,68,69,70,71,72,73,74,75,76,77,78,79,80,81,82,83,84,85,86,87,88,89,90,91,92,93,94,95,96,97,98,99],\"y\":[0.5956873315363881,0.6576819407008087,0.6972147349505841,0.6873315363881402,0.7160826594788859,0.6684636118598383,0.7268643306379156,0.688230008984726,0.7088948787061995,0.7187780772686433,0.6855345911949685,0.6567834681042228,0.7232704402515723,0.7070979335130279,0.7250673854447439,0.7196765498652291,0.7223719676549866,0.6945193171608266,0.7223719676549866,0.7241689128481581,0.7133872416891285,0.7169811320754716,0.7331536388140162,0.7205750224618149,0.7160826594788859,0.7205750224618149,0.7286612758310872,0.7214734950584007,0.7259658580413297,0.7223719676549866,0.7259658580413297,0.7304582210242587,0.7232704402515723,0.7133872416891285,0.7313566936208445,0.7259658580413297,0.7313566936208445,0.7250673854447439,0.7322551662174304,0.701707097933513,0.7214734950584007,0.7250673854447439,0.7196765498652291,0.7313566936208445,0.7313566936208445,0.7214734950584007,0.7044025157232704,0.7196765498652291,0.7394429469901168,0.7376460017969452,0.734052111410602,0.7205750224618149,0.710691823899371,0.7214734950584007,0.7268643306379156,0.7376460017969452,0.7250673854447439,0.7295597484276729,0.7313566936208445,0.738544474393531,0.7187780772686433,0.692722371967655,0.7412398921832885,0.7295597484276729,0.738544474393531,0.7493261455525606,0.7484276729559748,0.7448337825696316,0.7376460017969452,0.7439353099730458,0.7331536388140162,0.7232704402515723,0.7421383647798742,0.7529200359389039,0.7439353099730458,0.7502246181491464,0.7277628032345014,0.734052111410602,0.7601078167115903,0.734052111410602,0.7610062893081762,0.7322551662174304,0.7358490566037735,0.7313566936208445,0.7547169811320755,0.7457322551662174,0.7376460017969452,0.7502246181491464,0.7475292003593891,0.7619047619047619,0.7556154537286612,0.7628032345013477,0.7520215633423181,0.7250673854447439,0.74303683737646,0.7556154537286612,0.7529200359389039,0.7331536388140162,0.7619047619047619,0.7771787960467206],\"type\":\"scatter\"},{\"mode\":\"lines\",\"name\":\"h256_i10_lr0.01 - Test Accuracy\",\"x\":[0,1,2,3,4,5,6,7,8,9,10,11,12,13,14,15,16,17,18,19,20,21,22,23,24,25,26,27,28,29,30,31,32,33,34,35,36,37,38,39,40,41,42,43,44,45,46,47,48,49,50,51,52,53,54,55,56,57,58,59,60,61,62,63,64,65,66,67,68,69,70,71,72,73,74,75,76,77,78,79,80,81,82,83,84,85,86,87,88,89,90,91,92,93,94,95,96,97,98,99],\"y\":[0.5390835579514824,0.5956873315363881,0.5956873315363881,0.5956873315363881,0.5956873315363881,0.5956873315363881,0.5956873315363881,0.5956873315363881,0.5956873315363881,0.5956873315363881,0.5956873315363881,0.5956873315363881,0.5956873315363881,0.5956873315363881,0.5956873315363881,0.5956873315363881,0.5956873315363881,0.5956873315363881,0.5956873315363881,0.5956873315363881,0.5956873315363881,0.5956873315363881,0.5956873315363881,0.5956873315363881,0.5956873315363881,0.5956873315363881,0.5956873315363881,0.5956873315363881,0.5956873315363881,0.5956873315363881,0.5956873315363881,0.5956873315363881,0.5956873315363881,0.5956873315363881,0.5956873315363881,0.5956873315363881,0.5956873315363881,0.5956873315363881,0.5956873315363881,0.5956873315363881,0.5956873315363881,0.5956873315363881,0.5956873315363881,0.5956873315363881,0.5956873315363881,0.5956873315363881,0.5956873315363881,0.5956873315363881,0.5956873315363881,0.5956873315363881,0.5956873315363881,0.5956873315363881,0.5956873315363881,0.5956873315363881,0.5956873315363881,0.5956873315363881,0.5956873315363881,0.5956873315363881,0.5956873315363881,0.5956873315363881,0.5956873315363881,0.5956873315363881,0.5956873315363881,0.5956873315363881,0.5956873315363881,0.5956873315363881,0.5956873315363881,0.5956873315363881,0.3584905660377358,0.5956873315363881,0.5956873315363881,0.5956873315363881,0.5956873315363881,0.5956873315363881,0.5956873315363881,0.5956873315363881,0.5956873315363881,0.5956873315363881,0.5956873315363881,0.5956873315363881,0.5956873315363881,0.5956873315363881,0.5956873315363881,0.5965858041329739,0.5956873315363881,0.5938903863432166,0.5911949685534591,0.6172506738544474,0.655884995507637,0.6504941599281222,0.6522911051212938,0.6307277628032345,0.6388140161725068,0.6504941599281222,0.6486972147349506,0.6181491464510332,0.637915543575921,0.6298292902066487,0.6307277628032345,0.6289308176100629],\"type\":\"scatter\"},{\"mode\":\"lines\",\"name\":\"h256_i10_lr0.001 - Test Accuracy\",\"x\":[0,1,2,3,4,5,6,7,8,9,10,11,12,13,14,15,16,17,18,19,20,21,22,23,24,25,26,27,28,29,30,31,32,33,34,35,36,37,38,39,40,41,42,43,44,45,46,47,48,49,50,51,52,53,54,55,56,57,58,59,60,61,62,63,64,65,66,67,68,69,70,71,72,73,74,75,76,77,78,79,80,81,82,83,84,85,86,87,88,89,90,91,92,93,94,95,96,97,98,99],\"y\":[0.5956873315363881,0.6397124887690926,0.6316262353998203,0.5956873315363881,0.7053009883198562,0.6720575022461814,0.6747529200359389,0.6954177897574124,0.5956873315363881,0.7008086253369272,0.7169811320754716,0.7241689128481581,0.6999101527403414,0.7295597484276729,0.7187780772686433,0.7196765498652291,0.7304582210242587,0.7268643306379156,0.7169811320754716,0.734052111410602,0.7196765498652291,0.7268643306379156,0.7241689128481581,0.7178796046720575,0.7250673854447439,0.7142857142857143,0.7124887690925427,0.7196765498652291,0.7367475292003594,0.7259658580413297,0.7142857142857143,0.7313566936208445,0.7304582210242587,0.6873315363881402,0.7142857142857143,0.7277628032345014,0.7160826594788859,0.5956873315363881,0.5974842767295597,0.6873315363881402,0.6495956873315364,0.7115902964959568,0.7133872416891285,0.6675651392632524,0.7124887690925427,0.7232704402515723,0.7295597484276729,0.7178796046720575,0.7250673854447439,0.7313566936208445,0.7331536388140162,0.7133872416891285,0.7268643306379156,0.7367475292003594,0.7295597484276729,0.7358490566037735,0.7115902964959568,0.7232704402515723,0.738544474393531,0.7358490566037735,0.7403414195867026,0.7421383647798742,0.7331536388140162,0.7367475292003594,0.7214734950584007,0.738544474393531,0.7421383647798742,0.7070979335130279,0.7403414195867026,0.7349505840071878,0.7124887690925427,0.6936208445642408,0.6873315363881402,0.6477987421383647,0.7187780772686433,0.7178796046720575,0.7259658580413297,0.7250673854447439,0.7187780772686433,0.7124887690925427,0.710691823899371,0.7286612758310872,0.7286612758310872,0.7259658580413297,0.7286612758310872,0.7178796046720575,0.7259658580413297,0.7232704402515723,0.7358490566037735,0.7160826594788859,0.7205750224618149,0.738544474393531,0.7241689128481581,0.7295597484276729,0.7214734950584007,0.738544474393531,0.7169811320754716,0.7376460017969452,0.7250673854447439,0.7196765498652291],\"type\":\"scatter\"}],                        {\"template\":{\"data\":{\"histogram2dcontour\":[{\"type\":\"histogram2dcontour\",\"colorbar\":{\"outlinewidth\":0,\"ticks\":\"\"},\"colorscale\":[[0.0,\"#0d0887\"],[0.1111111111111111,\"#46039f\"],[0.2222222222222222,\"#7201a8\"],[0.3333333333333333,\"#9c179e\"],[0.4444444444444444,\"#bd3786\"],[0.5555555555555556,\"#d8576b\"],[0.6666666666666666,\"#ed7953\"],[0.7777777777777778,\"#fb9f3a\"],[0.8888888888888888,\"#fdca26\"],[1.0,\"#f0f921\"]]}],\"choropleth\":[{\"type\":\"choropleth\",\"colorbar\":{\"outlinewidth\":0,\"ticks\":\"\"}}],\"histogram2d\":[{\"type\":\"histogram2d\",\"colorbar\":{\"outlinewidth\":0,\"ticks\":\"\"},\"colorscale\":[[0.0,\"#0d0887\"],[0.1111111111111111,\"#46039f\"],[0.2222222222222222,\"#7201a8\"],[0.3333333333333333,\"#9c179e\"],[0.4444444444444444,\"#bd3786\"],[0.5555555555555556,\"#d8576b\"],[0.6666666666666666,\"#ed7953\"],[0.7777777777777778,\"#fb9f3a\"],[0.8888888888888888,\"#fdca26\"],[1.0,\"#f0f921\"]]}],\"heatmap\":[{\"type\":\"heatmap\",\"colorbar\":{\"outlinewidth\":0,\"ticks\":\"\"},\"colorscale\":[[0.0,\"#0d0887\"],[0.1111111111111111,\"#46039f\"],[0.2222222222222222,\"#7201a8\"],[0.3333333333333333,\"#9c179e\"],[0.4444444444444444,\"#bd3786\"],[0.5555555555555556,\"#d8576b\"],[0.6666666666666666,\"#ed7953\"],[0.7777777777777778,\"#fb9f3a\"],[0.8888888888888888,\"#fdca26\"],[1.0,\"#f0f921\"]]}],\"heatmapgl\":[{\"type\":\"heatmapgl\",\"colorbar\":{\"outlinewidth\":0,\"ticks\":\"\"},\"colorscale\":[[0.0,\"#0d0887\"],[0.1111111111111111,\"#46039f\"],[0.2222222222222222,\"#7201a8\"],[0.3333333333333333,\"#9c179e\"],[0.4444444444444444,\"#bd3786\"],[0.5555555555555556,\"#d8576b\"],[0.6666666666666666,\"#ed7953\"],[0.7777777777777778,\"#fb9f3a\"],[0.8888888888888888,\"#fdca26\"],[1.0,\"#f0f921\"]]}],\"contourcarpet\":[{\"type\":\"contourcarpet\",\"colorbar\":{\"outlinewidth\":0,\"ticks\":\"\"}}],\"contour\":[{\"type\":\"contour\",\"colorbar\":{\"outlinewidth\":0,\"ticks\":\"\"},\"colorscale\":[[0.0,\"#0d0887\"],[0.1111111111111111,\"#46039f\"],[0.2222222222222222,\"#7201a8\"],[0.3333333333333333,\"#9c179e\"],[0.4444444444444444,\"#bd3786\"],[0.5555555555555556,\"#d8576b\"],[0.6666666666666666,\"#ed7953\"],[0.7777777777777778,\"#fb9f3a\"],[0.8888888888888888,\"#fdca26\"],[1.0,\"#f0f921\"]]}],\"surface\":[{\"type\":\"surface\",\"colorbar\":{\"outlinewidth\":0,\"ticks\":\"\"},\"colorscale\":[[0.0,\"#0d0887\"],[0.1111111111111111,\"#46039f\"],[0.2222222222222222,\"#7201a8\"],[0.3333333333333333,\"#9c179e\"],[0.4444444444444444,\"#bd3786\"],[0.5555555555555556,\"#d8576b\"],[0.6666666666666666,\"#ed7953\"],[0.7777777777777778,\"#fb9f3a\"],[0.8888888888888888,\"#fdca26\"],[1.0,\"#f0f921\"]]}],\"mesh3d\":[{\"type\":\"mesh3d\",\"colorbar\":{\"outlinewidth\":0,\"ticks\":\"\"}}],\"scatter\":[{\"fillpattern\":{\"fillmode\":\"overlay\",\"size\":10,\"solidity\":0.2},\"type\":\"scatter\"}],\"parcoords\":[{\"type\":\"parcoords\",\"line\":{\"colorbar\":{\"outlinewidth\":0,\"ticks\":\"\"}}}],\"scatterpolargl\":[{\"type\":\"scatterpolargl\",\"marker\":{\"colorbar\":{\"outlinewidth\":0,\"ticks\":\"\"}}}],\"bar\":[{\"error_x\":{\"color\":\"#2a3f5f\"},\"error_y\":{\"color\":\"#2a3f5f\"},\"marker\":{\"line\":{\"color\":\"#E5ECF6\",\"width\":0.5},\"pattern\":{\"fillmode\":\"overlay\",\"size\":10,\"solidity\":0.2}},\"type\":\"bar\"}],\"scattergeo\":[{\"type\":\"scattergeo\",\"marker\":{\"colorbar\":{\"outlinewidth\":0,\"ticks\":\"\"}}}],\"scatterpolar\":[{\"type\":\"scatterpolar\",\"marker\":{\"colorbar\":{\"outlinewidth\":0,\"ticks\":\"\"}}}],\"histogram\":[{\"marker\":{\"pattern\":{\"fillmode\":\"overlay\",\"size\":10,\"solidity\":0.2}},\"type\":\"histogram\"}],\"scattergl\":[{\"type\":\"scattergl\",\"marker\":{\"colorbar\":{\"outlinewidth\":0,\"ticks\":\"\"}}}],\"scatter3d\":[{\"type\":\"scatter3d\",\"line\":{\"colorbar\":{\"outlinewidth\":0,\"ticks\":\"\"}},\"marker\":{\"colorbar\":{\"outlinewidth\":0,\"ticks\":\"\"}}}],\"scattermapbox\":[{\"type\":\"scattermapbox\",\"marker\":{\"colorbar\":{\"outlinewidth\":0,\"ticks\":\"\"}}}],\"scatterternary\":[{\"type\":\"scatterternary\",\"marker\":{\"colorbar\":{\"outlinewidth\":0,\"ticks\":\"\"}}}],\"scattercarpet\":[{\"type\":\"scattercarpet\",\"marker\":{\"colorbar\":{\"outlinewidth\":0,\"ticks\":\"\"}}}],\"carpet\":[{\"aaxis\":{\"endlinecolor\":\"#2a3f5f\",\"gridcolor\":\"white\",\"linecolor\":\"white\",\"minorgridcolor\":\"white\",\"startlinecolor\":\"#2a3f5f\"},\"baxis\":{\"endlinecolor\":\"#2a3f5f\",\"gridcolor\":\"white\",\"linecolor\":\"white\",\"minorgridcolor\":\"white\",\"startlinecolor\":\"#2a3f5f\"},\"type\":\"carpet\"}],\"table\":[{\"cells\":{\"fill\":{\"color\":\"#EBF0F8\"},\"line\":{\"color\":\"white\"}},\"header\":{\"fill\":{\"color\":\"#C8D4E3\"},\"line\":{\"color\":\"white\"}},\"type\":\"table\"}],\"barpolar\":[{\"marker\":{\"line\":{\"color\":\"#E5ECF6\",\"width\":0.5},\"pattern\":{\"fillmode\":\"overlay\",\"size\":10,\"solidity\":0.2}},\"type\":\"barpolar\"}],\"pie\":[{\"automargin\":true,\"type\":\"pie\"}]},\"layout\":{\"autotypenumbers\":\"strict\",\"colorway\":[\"#636efa\",\"#EF553B\",\"#00cc96\",\"#ab63fa\",\"#FFA15A\",\"#19d3f3\",\"#FF6692\",\"#B6E880\",\"#FF97FF\",\"#FECB52\"],\"font\":{\"color\":\"#2a3f5f\"},\"hovermode\":\"closest\",\"hoverlabel\":{\"align\":\"left\"},\"paper_bgcolor\":\"white\",\"plot_bgcolor\":\"#E5ECF6\",\"polar\":{\"bgcolor\":\"#E5ECF6\",\"angularaxis\":{\"gridcolor\":\"white\",\"linecolor\":\"white\",\"ticks\":\"\"},\"radialaxis\":{\"gridcolor\":\"white\",\"linecolor\":\"white\",\"ticks\":\"\"}},\"ternary\":{\"bgcolor\":\"#E5ECF6\",\"aaxis\":{\"gridcolor\":\"white\",\"linecolor\":\"white\",\"ticks\":\"\"},\"baxis\":{\"gridcolor\":\"white\",\"linecolor\":\"white\",\"ticks\":\"\"},\"caxis\":{\"gridcolor\":\"white\",\"linecolor\":\"white\",\"ticks\":\"\"}},\"coloraxis\":{\"colorbar\":{\"outlinewidth\":0,\"ticks\":\"\"}},\"colorscale\":{\"sequential\":[[0.0,\"#0d0887\"],[0.1111111111111111,\"#46039f\"],[0.2222222222222222,\"#7201a8\"],[0.3333333333333333,\"#9c179e\"],[0.4444444444444444,\"#bd3786\"],[0.5555555555555556,\"#d8576b\"],[0.6666666666666666,\"#ed7953\"],[0.7777777777777778,\"#fb9f3a\"],[0.8888888888888888,\"#fdca26\"],[1.0,\"#f0f921\"]],\"sequentialminus\":[[0.0,\"#0d0887\"],[0.1111111111111111,\"#46039f\"],[0.2222222222222222,\"#7201a8\"],[0.3333333333333333,\"#9c179e\"],[0.4444444444444444,\"#bd3786\"],[0.5555555555555556,\"#d8576b\"],[0.6666666666666666,\"#ed7953\"],[0.7777777777777778,\"#fb9f3a\"],[0.8888888888888888,\"#fdca26\"],[1.0,\"#f0f921\"]],\"diverging\":[[0,\"#8e0152\"],[0.1,\"#c51b7d\"],[0.2,\"#de77ae\"],[0.3,\"#f1b6da\"],[0.4,\"#fde0ef\"],[0.5,\"#f7f7f7\"],[0.6,\"#e6f5d0\"],[0.7,\"#b8e186\"],[0.8,\"#7fbc41\"],[0.9,\"#4d9221\"],[1,\"#276419\"]]},\"xaxis\":{\"gridcolor\":\"white\",\"linecolor\":\"white\",\"ticks\":\"\",\"title\":{\"standoff\":15},\"zerolinecolor\":\"white\",\"automargin\":true,\"zerolinewidth\":2},\"yaxis\":{\"gridcolor\":\"white\",\"linecolor\":\"white\",\"ticks\":\"\",\"title\":{\"standoff\":15},\"zerolinecolor\":\"white\",\"automargin\":true,\"zerolinewidth\":2},\"scene\":{\"xaxis\":{\"backgroundcolor\":\"#E5ECF6\",\"gridcolor\":\"white\",\"linecolor\":\"white\",\"showbackground\":true,\"ticks\":\"\",\"zerolinecolor\":\"white\",\"gridwidth\":2},\"yaxis\":{\"backgroundcolor\":\"#E5ECF6\",\"gridcolor\":\"white\",\"linecolor\":\"white\",\"showbackground\":true,\"ticks\":\"\",\"zerolinecolor\":\"white\",\"gridwidth\":2},\"zaxis\":{\"backgroundcolor\":\"#E5ECF6\",\"gridcolor\":\"white\",\"linecolor\":\"white\",\"showbackground\":true,\"ticks\":\"\",\"zerolinecolor\":\"white\",\"gridwidth\":2}},\"shapedefaults\":{\"line\":{\"color\":\"#2a3f5f\"}},\"annotationdefaults\":{\"arrowcolor\":\"#2a3f5f\",\"arrowhead\":0,\"arrowwidth\":1},\"geo\":{\"bgcolor\":\"white\",\"landcolor\":\"#E5ECF6\",\"subunitcolor\":\"white\",\"showland\":true,\"showlakes\":true,\"lakecolor\":\"white\"},\"title\":{\"x\":0.05},\"mapbox\":{\"style\":\"light\"}}},\"title\":{\"text\":\"Test Accuracies\"},\"xaxis\":{\"title\":{\"text\":\"Epochs\"}},\"yaxis\":{\"title\":{\"text\":\"Metrics\"}},\"showlegend\":true,\"legend\":{\"title\":{\"text\":\"Hyperparameter Configurations\"}}},                        {\"responsive\": true}                    ).then(function(){\n",
              "                            \n",
              "var gd = document.getElementById('df291a2a-2b03-4f59-b1a8-bb99fbad23dc');\n",
              "var x = new MutationObserver(function (mutations, observer) {{\n",
              "        var display = window.getComputedStyle(gd).display;\n",
              "        if (!display || display === 'none') {{\n",
              "            console.log([gd, 'removed!']);\n",
              "            Plotly.purge(gd);\n",
              "            observer.disconnect();\n",
              "        }}\n",
              "}});\n",
              "\n",
              "// Listen for the removal of the full notebook cells\n",
              "var notebookContainer = gd.closest('#notebook-container');\n",
              "if (notebookContainer) {{\n",
              "    x.observe(notebookContainer, {childList: true});\n",
              "}}\n",
              "\n",
              "// Listen for the clearing of the current output cell\n",
              "var outputEl = gd.closest('.output');\n",
              "if (outputEl) {{\n",
              "    x.observe(outputEl, {childList: true});\n",
              "}}\n",
              "\n",
              "                        })                };                            </script>        </div>\n",
              "</body>\n",
              "</html>"
            ]
          },
          "metadata": {}
        }
      ]
    },
    {
      "cell_type": "code",
      "source": [
        "# Create interactive plots using Plotly\n",
        "fig = go.Figure()\n",
        "\n",
        "# Plot Training Loss\n",
        "for label, data in loaded_results.items():\n",
        "    fig.add_trace(go.Scatter(x=epochs, y=data['f1_scores'], mode='lines', name=f'{label} - F1 Score'))\n",
        "\n",
        "# Customize layout\n",
        "fig.update_layout(\n",
        "    title=\"F1 Scores\",\n",
        "    xaxis_title=\"Epochs\",\n",
        "    yaxis_title=\"Metrics\",\n",
        "    showlegend=True,\n",
        "    legend_title=\"Hyperparameter Configurations\",\n",
        "\n",
        ")\n",
        "\n",
        "# Show the figure\n",
        "fig.show()"
      ],
      "metadata": {
        "colab": {
          "base_uri": "https://localhost:8080/",
          "height": 542
        },
        "id": "9NXA1HHwM3ec",
        "outputId": "ec09321b-dbb9-4013-cf75-2ef423f6ce82"
      },
      "execution_count": null,
      "outputs": [
        {
          "output_type": "display_data",
          "data": {
            "text/html": [
              "<html>\n",
              "<head><meta charset=\"utf-8\" /></head>\n",
              "<body>\n",
              "    <div>            <script src=\"https://cdnjs.cloudflare.com/ajax/libs/mathjax/2.7.5/MathJax.js?config=TeX-AMS-MML_SVG\"></script><script type=\"text/javascript\">if (window.MathJax && window.MathJax.Hub && window.MathJax.Hub.Config) {window.MathJax.Hub.Config({SVG: {font: \"STIX-Web\"}});}</script>                <script type=\"text/javascript\">window.PlotlyConfig = {MathJaxConfig: 'local'};</script>\n",
              "        <script charset=\"utf-8\" src=\"https://cdn.plot.ly/plotly-2.24.1.min.js\"></script>                <div id=\"a4b21c6a-2563-46ef-923d-a9204398407b\" class=\"plotly-graph-div\" style=\"height:525px; width:100%;\"></div>            <script type=\"text/javascript\">                                    window.PLOTLYENV=window.PLOTLYENV || {};                                    if (document.getElementById(\"a4b21c6a-2563-46ef-923d-a9204398407b\")) {                    Plotly.newPlot(                        \"a4b21c6a-2563-46ef-923d-a9204398407b\",                        [{\"mode\":\"lines\",\"name\":\"h64_i5_lr0.01 - F1 Score\",\"x\":[0,1,2,3,4,5,6,7,8,9,10,11,12,13,14,15,16,17,18,19,20,21,22,23,24,25,26,27,28,29,30,31,32,33,34,35,36,37,38,39,40,41,42,43,44,45,46,47,48,49,50,51,52,53,54,55,56,57,58,59,60,61,62,63,64,65,66,67,68,69,70,71,72,73,74,75,76,77,78,79,80,81,82,83,84,85,86,87,88,89,90,91,92,93,94,95,96,97,98,99],\"y\":[0.44475304145115463,0.5539948998592744,0.7137251773732702,0.716256722356826,0.6296628275217391,0.6786298728494969,0.7194723669010803,0.7077645951474603,0.7315935489290699,0.7225587223104601,0.6469833176064538,0.6678423254281342,0.7130674536777025,0.7351821182420328,0.7034378246351538,0.7166750909152425,0.6489952925908165,0.7029123076950325,0.6030060466699829,0.7125263843823753,0.7101458192369269,0.7279931302654339,0.7201173993224274,0.7258915113627676,0.6926017326269951,0.7078434452841212,0.7041752158890325,0.7124705252391045,0.725064592703808,0.7079665585893172,0.7260174822876158,0.7008810206310746,0.5393728705453179,0.6405284560487183,0.6004698856466202,0.5865412185799411,0.6501053537417979,0.6533340581233188,0.5732040540509432,0.645785184055031,0.6434528998002933,0.44475304145115463,0.5559747587586377,0.63421169899174,0.44475304145115463,0.5915511523920152,0.6493252652893309,0.5544296636287697,0.6248731793503813,0.642616537779179,0.6077837404823887,0.44475304145115463,0.44475304145115463,0.44475304145115463,0.44475304145115463,0.44475304145115463,0.44475304145115463,0.44475304145115463,0.44475304145115463,0.44475304145115463,0.44475304145115463,0.44475304145115463,0.44475304145115463,0.44475304145115463,0.44475304145115463,0.44475304145115463,0.44475304145115463,0.44475304145115463,0.44475304145115463,0.44475304145115463,0.44475304145115463,0.44475304145115463,0.44475304145115463,0.44475304145115463,0.44475304145115463,0.44475304145115463,0.44475304145115463,0.44475304145115463,0.44475304145115463,0.44475304145115463,0.44475304145115463,0.44475304145115463,0.44475304145115463,0.44475304145115463,0.44475304145115463,0.44475304145115463,0.44475304145115463,0.44475304145115463,0.44475304145115463,0.44475304145115463,0.44475304145115463,0.44475304145115463,0.44475304145115463,0.44475304145115463,0.44475304145115463,0.44475304145115463,0.44475304145115463,0.44475304145115463,0.44475304145115463,0.44475304145115463],\"type\":\"scatter\"},{\"mode\":\"lines\",\"name\":\"h64_i5_lr0.001 - F1 Score\",\"x\":[0,1,2,3,4,5,6,7,8,9,10,11,12,13,14,15,16,17,18,19,20,21,22,23,24,25,26,27,28,29,30,31,32,33,34,35,36,37,38,39,40,41,42,43,44,45,46,47,48,49,50,51,52,53,54,55,56,57,58,59,60,61,62,63,64,65,66,67,68,69,70,71,72,73,74,75,76,77,78,79,80,81,82,83,84,85,86,87,88,89,90,91,92,93,94,95,96,97,98,99],\"y\":[0.44475304145115463,0.44475304145115463,0.44475304145115463,0.7018123149984575,0.7064383913164712,0.6565770282325234,0.7077831657844376,0.7156209913950767,0.7254279764534072,0.6584361797546153,0.7150867759502723,0.7228370923277105,0.686521029906678,0.7204479012057037,0.7338943643134915,0.7052307534893849,0.718328266604307,0.7333236827599461,0.7198726445497315,0.723674283335055,0.7170520106961598,0.7242306089062606,0.7235863885773969,0.7236215815616533,0.7277858716636644,0.705555344284242,0.7085783134938425,0.7105284483183086,0.7201627764950196,0.7210287572466642,0.7208396120041891,0.7226556785482875,0.7262042472639906,0.7266659665581499,0.7271613174422938,0.7206246428795797,0.7154374710005474,0.7269893006706118,0.7259167007625154,0.7220616201114683,0.727171355864841,0.7263520749167646,0.731751418701094,0.7213730657265481,0.7225287040966009,0.7218673423437664,0.7125118681947081,0.7210372730268773,0.7164263956848271,0.7196537135632989,0.7211810649450617,0.7289177057276451,0.7337156986244704,0.7338264140208068,0.7299486715139339,0.7325999622773313,0.7220171890118615,0.7362110450885037,0.7356291051145468,0.7155577839724738,0.7374782785988317,0.7312824518617352,0.689566628288916,0.7199297744946017,0.7067316287502085,0.7394769467479516,0.7348065631081534,0.7366044323621584,0.7195547942329815,0.735942397097635,0.7276148225451673,0.7308269216849036,0.7290407662369149,0.7240511502670904,0.7371539666963658,0.7317765407454861,0.72614396528101,0.740387529878452,0.7350876391490399,0.7225287040966009,0.7275760029218971,0.7271984448268463,0.7311662410310351,0.735839738512147,0.7367639345585879,0.7192600441103951,0.7205417661442196,0.7365066507973679,0.7232517112938409,0.7372561951289593,0.7349225067385446,0.7282716591448144,0.726560208386636,0.728330416215717,0.7369437335055389,0.7325999622773313,0.7390558102308159,0.7324935401107617,0.7198402654271445,0.7278171973943101],\"type\":\"scatter\"},{\"mode\":\"lines\",\"name\":\"h64_i10_lr0.01 - F1 Score\",\"x\":[0,1,2,3,4,5,6,7,8,9,10,11,12,13,14,15,16,17,18,19,20,21,22,23,24,25,26,27,28,29,30,31,32,33,34,35,36,37,38,39,40,41,42,43,44,45,46,47,48,49,50,51,52,53,54,55,56,57,58,59,60,61,62,63,64,65,66,67,68,69,70,71,72,73,74,75,76,77,78,79,80,81,82,83,84,85,86,87,88,89,90,91,92,93,94,95,96,97,98,99],\"y\":[0.44475304145115463,0.44475304145115463,0.49026089609927276,0.38891089072695045,0.44475304145115463,0.44475304145115463,0.44475304145115463,0.6319678475770553,0.5122266995802681,0.5900556786894962,0.5503936925674698,0.6376085298673246,0.6071561485313476,0.6261588774991529,0.48263166178959915,0.4463718728873768,0.5539948998592744,0.6831216763434934,0.69315559503927,0.6962975963645422,0.6502466052995401,0.6959715386123506,0.7080774713062982,0.6894784184506346,0.68433671677098,0.7051913904167992,0.6970254167213219,0.6597848004376647,0.7168261548924159,0.7158107766773931,0.7115846884303049,0.6370066614199108,0.5623202347036499,0.7175240905327703,0.7040642341379508,0.6908944777349579,0.7147555148669064,0.6384785354013768,0.7047405396476785,0.7093365037928889,0.7070740920123867,0.6824119406537297,0.7034779071471101,0.6959656283721862,0.7074672851677629,0.7014495080021471,0.7115793191267228,0.671523501863555,0.7087675925984025,0.7110264833101527,0.71044388661413,0.6953747419369292,0.6868243336591839,0.6871205629118653,0.7081061545404642,0.6893235804183646,0.6535608445934559,0.6959715386123506,0.7218252555561206,0.7007956843736018,0.7076890929395667,0.6728155622727101,0.6939463995779603,0.7140404179744164,0.6915475127035301,0.6843893165287872,0.6773688498692388,0.6876577056264669,0.7231065805034722,0.7018799904110348,0.7048291374051867,0.7073640275358682,0.285336397051566,0.7084618682166794,0.7126527680713037,0.7153053555734787,0.7077831657844376,0.7188107647524326,0.702949753928421,0.7016010743566163,0.6815761887373191,0.7114802794433137,0.6995437049673857,0.7032895396494622,0.7291626251675363,0.6975947870140269,0.7303946724867632,0.7199509124808237,0.6924842104048047,0.7048754998182479,0.69861461189801,0.7013712967287004,0.7123043693635439,0.6626907970144497,0.7208447216527698,0.7136986845213136,0.6907467796627016,0.690983166813474,0.7062005103296364,0.7087756008166135],\"type\":\"scatter\"},{\"mode\":\"lines\",\"name\":\"h64_i10_lr0.001 - F1 Score\",\"x\":[0,1,2,3,4,5,6,7,8,9,10,11,12,13,14,15,16,17,18,19,20,21,22,23,24,25,26,27,28,29,30,31,32,33,34,35,36,37,38,39,40,41,42,43,44,45,46,47,48,49,50,51,52,53,54,55,56,57,58,59,60,61,62,63,64,65,66,67,68,69,70,71,72,73,74,75,76,77,78,79,80,81,82,83,84,85,86,87,88,89,90,91,92,93,94,95,96,97,98,99],\"y\":[0.44475304145115463,0.44475304145115463,0.5280277283300376,0.6422684344662405,0.6043996180156627,0.7292807988098716,0.6927240497876299,0.7072196197138237,0.709098306463917,0.701871813123007,0.7106579894295251,0.7026747809487336,0.7082333563423333,0.6608483180141148,0.7197398098931631,0.7256207525793029,0.6849433987262061,0.7347892162154837,0.7165665909629896,0.7098932119413593,0.7207210735043962,0.7106717158945196,0.7013502578947642,0.7247059697761925,0.7095685519042055,0.7041223576386526,0.7040029510807237,0.7083119185873652,0.7218252555561206,0.7163960019946376,0.7337345236034688,0.7307677410936099,0.7188107647524326,0.7091046177949916,0.7328791652685644,0.7267658450995828,0.7331605246122156,0.7288361154265544,0.7286438110475602,0.7302417453833276,0.7320262602034691,0.7137216555177753,0.7166256976839379,0.7337586505625001,0.7158578304232777,0.7223643820514507,0.7328277086338213,0.7243595913680855,0.7295057784428768,0.7297830297759884,0.7319597225257602,0.7229033855805591,0.7191059241842059,0.7273378670304066,0.7293977854829015,0.7319393518282105,0.7268643306379156,0.7260165816172856,0.7313478905389587,0.7066462754557146,0.7238108953473222,0.723464631192531,0.7186498230626578,0.7226415856587614,0.7208730329346448,0.7171311145337596,0.7392531615426706,0.721197456661254,0.724683844621297,0.7151330955466143,0.7346076852080515,0.7180915085863466,0.7318176253530275,0.7132451545536759,0.7366138445366907,0.7238688414956453,0.7040029510807237,0.7333148219286822,0.7288394613964454,0.7095976845919314,0.7232387681214633,0.7308269216849036,0.7208810163091108,0.7311369633733497,0.7294771230584796,0.7321557739833047,0.7302417453833276,0.72567120946067,0.7342665207885132,0.734339351613092,0.7296257353388773,0.7338143230559893,0.7303693587197747,0.733706225961918,0.7279756543128459,0.7242925803697285,0.7321586244726171,0.7227514443235641,0.7317610965373302,0.7263279631431327],\"type\":\"scatter\"},{\"mode\":\"lines\",\"name\":\"h128_i5_lr0.01 - F1 Score\",\"x\":[0,1,2,3,4,5,6,7,8,9,10,11,12,13,14,15,16,17,18,19,20,21,22,23,24,25,26,27,28,29,30,31,32,33,34,35,36,37,38,39,40,41,42,43,44,45,46,47,48,49,50,51,52,53,54,55,56,57,58,59,60,61,62,63,64,65,66,67,68,69,70,71,72,73,74,75,76,77,78,79,80,81,82,83,84,85,86,87,88,89,90,91,92,93,94,95,96,97,98,99],\"y\":[0.44475304145115463,0.44475304145115463,0.6292677931387609,0.6228750290016806,0.44475304145115463,0.6977710314753158,0.612670982876422,0.5605843834223632,0.6880955164860614,0.633362896928966,0.44475304145115463,0.23280959796369208,0.44475304145115463,0.44475304145115463,0.44475304145115463,0.44475304145115463,0.44475304145115463,0.44475304145115463,0.44475304145115463,0.44475304145115463,0.44475304145115463,0.44475304145115463,0.44475304145115463,0.44475304145115463,0.44475304145115463,0.44475304145115463,0.44475304145115463,0.44475304145115463,0.44475304145115463,0.44475304145115463,0.44475304145115463,0.44475304145115463,0.44475304145115463,0.44475304145115463,0.44475304145115463,0.44475304145115463,0.44475304145115463,0.44475304145115463,0.44475304145115463,0.44475304145115463,0.44475304145115463,0.44475304145115463,0.44475304145115463,0.44475304145115463,0.44475304145115463,0.44475304145115463,0.44475304145115463,0.44475304145115463,0.44475304145115463,0.44475304145115463,0.44475304145115463,0.44475304145115463,0.44475304145115463,0.44475304145115463,0.44475304145115463,0.44475304145115463,0.44475304145115463,0.44475304145115463,0.44475304145115463,0.44475304145115463,0.44475304145115463,0.44475304145115463,0.44475304145115463,0.44475304145115463,0.44475304145115463,0.44475304145115463,0.44475304145115463,0.44475304145115463,0.44475304145115463,0.44475304145115463,0.44475304145115463,0.44475304145115463,0.44475304145115463,0.44475304145115463,0.44475304145115463,0.44475304145115463,0.44475304145115463,0.44475304145115463,0.44475304145115463,0.44475304145115463,0.44475304145115463,0.44475304145115463,0.44475304145115463,0.44475304145115463,0.44475304145115463,0.44475304145115463,0.44475304145115463,0.44475304145115463,0.44475304145115463,0.44475304145115463,0.44475304145115463,0.44475304145115463,0.44475304145115463,0.44475304145115463,0.44475304145115463,0.44475304145115463,0.44475304145115463,0.44475304145115463,0.44475304145115463,0.44475304145115463],\"type\":\"scatter\"},{\"mode\":\"lines\",\"name\":\"h128_i5_lr0.001 - F1 Score\",\"x\":[0,1,2,3,4,5,6,7,8,9,10,11,12,13,14,15,16,17,18,19,20,21,22,23,24,25,26,27,28,29,30,31,32,33,34,35,36,37,38,39,40,41,42,43,44,45,46,47,48,49,50,51,52,53,54,55,56,57,58,59,60,61,62,63,64,65,66,67,68,69,70,71,72,73,74,75,76,77,78,79,80,81,82,83,84,85,86,87,88,89,90,91,92,93,94,95,96,97,98,99],\"y\":[0.44475304145115463,0.5744060140642554,0.6317908107721056,0.6196024381703488,0.7101458192369269,0.7369816015224477,0.721311213257831,0.7260207451433958,0.723368225530856,0.6397954393994274,0.7118039249374901,0.7190741213735553,0.7217627534696135,0.7209745800754558,0.698925657400937,0.7267140536811217,0.7192759828747944,0.730464993523751,0.7243297380804566,0.713081797183236,0.7289177057276451,0.6960876704670151,0.7010334154613206,0.7304709336187343,0.7146969519710594,0.7234865885993397,0.7246588894159642,0.7026163325753034,0.7166541105067312,0.7347080613830154,0.7171873247971267,0.7309054484801784,0.7220616201114683,0.7201887431551557,0.7313241502362954,0.7240189786183708,0.7222413889291811,0.7270893692039084,0.7230215127789251,0.7274585822910195,0.721311213257831,0.6767053021658724,0.7236543953095091,0.7253484358306149,0.7206663458954792,0.698207674374828,0.7220224033027041,0.7395350175452865,0.725187467610539,0.7095976845919314,0.7202568254368674,0.6983591666248505,0.7351821182420328,0.7190190542169026,0.7278440324056983,0.7282677520862733,0.7331192584850651,0.7297830297759884,0.7300804180596167,0.7311861748912,0.7401273663300008,0.7324914551823519,0.7350332206320999,0.7389059887602091,0.7297023631255439,0.7259022396715049,0.7296311457220372,0.733850551465156,0.7306538738159727,0.7391918114791006,0.7183815211259464,0.723869553982059,0.7331631074947765,0.7282854691455063,0.7249682519752377,0.7391500926149237,0.7361243647562857,0.7334846872943137,0.735753810721307,0.7118395850701531,0.7287571562023328,0.7229033855805591,0.7372922662914303,0.7257897559560069,0.7312018002463487,0.7380024668139017,0.7349030384424329,0.7021653601059249,0.7415004916221838,0.7412881536741697,0.7351419782555767,0.7316026726731196,0.7344165624020309,0.7373449029444389,0.7392701309989768,0.7311291737753155,0.7289286685851905,0.7382062250696373,0.7260174822876158,0.7357771010062115],\"type\":\"scatter\"},{\"mode\":\"lines\",\"name\":\"h128_i10_lr0.01 - F1 Score\",\"x\":[0,1,2,3,4,5,6,7,8,9,10,11,12,13,14,15,16,17,18,19,20,21,22,23,24,25,26,27,28,29,30,31,32,33,34,35,36,37,38,39,40,41,42,43,44,45,46,47,48,49,50,51,52,53,54,55,56,57,58,59,60,61,62,63,64,65,66,67,68,69,70,71,72,73,74,75,76,77,78,79,80,81,82,83,84,85,86,87,88,89,90,91,92,93,94,95,96,97,98,99],\"y\":[0.44475304145115463,0.44475304145115463,0.23647089282786882,0.6404185271387365,0.44475304145115463,0.6102385343412439,0.46885209776353726,0.44475304145115463,0.44475304145115463,0.44475304145115463,0.44475304145115463,0.4649640371493757,0.4495613033222647,0.6245711632204474,0.44475304145115463,0.44475304145115463,0.44475304145115463,0.44475304145115463,0.44475304145115463,0.44475304145115463,0.44475304145115463,0.44475304145115463,0.44475304145115463,0.44475304145115463,0.5679285540079152,0.5722723449972766,0.5777407019567437,0.5804751260911085,0.7026804432464809,0.6631365192685946,0.5660789515683707,0.5945438513483962,0.4872129981770716,0.6384785354013768,0.5753380337806886,0.44475304145115463,0.44475304145115463,0.44475304145115463,0.44475304145115463,0.44475304145115463,0.44475304145115463,0.44475304145115463,0.44475304145115463,0.44475304145115463,0.44475304145115463,0.44475304145115463,0.44475304145115463,0.44475304145115463,0.44475304145115463,0.44475304145115463,0.44475304145115463,0.44475304145115463,0.44475304145115463,0.5845559341641957,0.44475304145115463,0.23280959796369208,0.23280959796369208,0.23280959796369208,0.23280959796369208,0.4504280045548248,0.44679656738068874,0.44679656738068874,0.44679656738068874,0.44679656738068874,0.44679656738068874,0.44679656738068874,0.44679656738068874,0.44679656738068874,0.44679656738068874,0.44679656738068874,0.44679656738068874,0.44679656738068874,0.44679656738068874,0.44679656738068874,0.44679656738068874,0.44679656738068874,0.44679656738068874,0.44679656738068874,0.44679656738068874,0.44679656738068874,0.44679656738068874,0.44679656738068874,0.44679656738068874,0.44679656738068874,0.44679656738068874,0.44679656738068874,0.44679656738068874,0.44679656738068874,0.44679656738068874,0.44679656738068874,0.44679656738068874,0.44679656738068874,0.44679656738068874,0.44679656738068874,0.44679656738068874,0.44679656738068874,0.44679656738068874,0.44679656738068874,0.44679656738068874,0.44679656738068874],\"type\":\"scatter\"},{\"mode\":\"lines\",\"name\":\"h128_i10_lr0.001 - F1 Score\",\"x\":[0,1,2,3,4,5,6,7,8,9,10,11,12,13,14,15,16,17,18,19,20,21,22,23,24,25,26,27,28,29,30,31,32,33,34,35,36,37,38,39,40,41,42,43,44,45,46,47,48,49,50,51,52,53,54,55,56,57,58,59,60,61,62,63,64,65,66,67,68,69,70,71,72,73,74,75,76,77,78,79,80,81,82,83,84,85,86,87,88,89,90,91,92,93,94,95,96,97,98,99],\"y\":[0.44475304145115463,0.47894121394902556,0.633423180592992,0.6364775883420959,0.5809188088449136,0.6994652050234725,0.5949590277803346,0.6981772895910625,0.7269893006706118,0.7140404179744164,0.7178763632910945,0.7166015350790887,0.728999115158022,0.6874728506255289,0.6842566920735821,0.7175682982318413,0.7214565835725382,0.7186932724572309,0.7146180438094755,0.7327940662373603,0.7257897559560069,0.7112548334798701,0.7261314214607297,0.7226209541025638,0.7241594609092635,0.7172700151919459,0.7068754077243247,0.7214954654307753,0.7202873403738237,0.708350649490477,0.7168847316972028,0.7239412968431556,0.7257574725218191,0.7362017964827257,0.7291212257376162,0.7180022752153242,0.7127502071625447,0.7236028266323774,0.7346699821489889,0.7218551835967215,0.7312018002463487,0.7230334348754802,0.7176741128427537,0.7159747928867906,0.7234865885993397,0.7274277196618006,0.7369437335055389,0.7351419782555767,0.7293740159712421,0.728338298845978,0.7160122734100122,0.7213591164882984,0.7337345236034688,0.7312018002463487,0.7175381633162001,0.7332479699764638,0.7284011916583912,0.7280446716524217,0.7258932880273155,0.7292938780331675,0.7349783244505943,0.7353886876000623,0.7392701309989768,0.7321609693144969,0.7271479904992337,0.7355397132739537,0.7384269513251069,0.7366167572166302,0.7352521141001777,0.7348065631081534,0.7413952758526862,0.7352521141001777,0.6681754809926572,0.7418009110539481,0.7451185691904989,0.7391500926149237,0.6937484964085646,0.6106053917926972,0.6721144687014093,0.7346576558349595,0.7377696543079344,0.743479879824736,0.7476256029985077,0.7379537822033903,0.7445897033388906,0.7394944952612014,0.7466320160954073,0.7360078779352371,0.7416785199087199,0.7454610181559272,0.7331631074947765,0.743633834103415,0.7303610313482722,0.7489158967824432,0.7394133808673544,0.7508110522499398,0.7451464384397269,0.7378328522926954,0.7466307277628033,0.7535646081146051],\"type\":\"scatter\"},{\"mode\":\"lines\",\"name\":\"h256_i5_lr0.01 - F1 Score\",\"x\":[0,1,2,3,4,5,6,7,8,9,10,11,12,13,14,15,16,17,18,19,20,21,22,23,24,25,26,27,28,29,30,31,32,33,34,35,36,37,38,39,40,41,42,43,44,45,46,47,48,49,50,51,52,53,54,55,56,57,58,59,60,61,62,63,64,65,66,67,68,69,70,71,72,73,74,75,76,77,78,79,80,81,82,83,84,85,86,87,88,89,90,91,92,93,94,95,96,97,98,99],\"y\":[0.44475304145115463,0.45575287969979783,0.44475304145115463,0.44475304145115463,0.44475304145115463,0.5642884626043344,0.44475304145115463,0.44475304145115463,0.44475304145115463,0.44475304145115463,0.44475304145115463,0.5338743690258583,0.44840372033156967,0.494541851621177,0.5021103205011251,0.5619295505125568,0.6291571335597458,0.6493140556375553,0.652764339908676,0.7035040431266847,0.6339548050785777,0.6053934305706962,0.694644964205081,0.6398598610463044,0.7237879908067235,0.7290407662369149,0.7302618912510388,0.7011748891184285,0.7187071516097964,0.7152981817277826,0.7326519342100241,0.66056884320964,0.7164832853532043,0.7212197301787565,0.6999475888276335,0.735385946584123,0.6901110451227301,0.6477878601550292,0.6802120082037373,0.7172700151919459,0.6966807370865754,0.6523940813222564,0.6359001656271671,0.7076555083124069,0.7021455419732048,0.6255259048547358,0.7205987229043808,0.6639064626825669,0.7278941676820122,0.7097615322577123,0.720840556994208,0.6429016523235042,0.7298120890474417,0.7249781709781224,0.5014161709966223,0.44475304145115463,0.44475304145115463,0.23280959796369208,0.44475304145115463,0.44475304145115463,0.44475304145115463,0.44475304145115463,0.44475304145115463,0.44475304145115463,0.44475304145115463,0.44475304145115463,0.44475304145115463,0.44475304145115463,0.44475304145115463,0.44475304145115463,0.44475304145115463,0.44475304145115463,0.23280959796369208,0.44475304145115463,0.44475304145115463,0.44475304145115463,0.44475304145115463,0.44475304145115463,0.44475304145115463,0.44475304145115463,0.44475304145115463,0.44475304145115463,0.44475304145115463,0.44475304145115463,0.44475304145115463,0.44475304145115463,0.44475304145115463,0.44475304145115463,0.44475304145115463,0.23280959796369208,0.44475304145115463,0.23280959796369208,0.44475304145115463,0.44475304145115463,0.44475304145115463,0.44475304145115463,0.44475304145115463,0.44475304145115463,0.44475304145115463,0.44475304145115463],\"type\":\"scatter\"},{\"mode\":\"lines\",\"name\":\"h256_i5_lr0.001 - F1 Score\",\"x\":[0,1,2,3,4,5,6,7,8,9,10,11,12,13,14,15,16,17,18,19,20,21,22,23,24,25,26,27,28,29,30,31,32,33,34,35,36,37,38,39,40,41,42,43,44,45,46,47,48,49,50,51,52,53,54,55,56,57,58,59,60,61,62,63,64,65,66,67,68,69,70,71,72,73,74,75,76,77,78,79,80,81,82,83,84,85,86,87,88,89,90,91,92,93,94,95,96,97,98,99],\"y\":[0.44475304145115463,0.6486736416718452,0.673992866134727,0.6896455132325376,0.7176454287468418,0.6144889569723752,0.7195751195620084,0.6570731878510414,0.6936971155826268,0.7131541507892896,0.6883227992794011,0.6434374767135025,0.7117648686385118,0.7081216270734545,0.7201936033244325,0.717118697257724,0.711205722418015,0.6969927758950056,0.7085783134938425,0.7177084614049134,0.7130164460385371,0.7068340484911785,0.7311861748912,0.7202135257617086,0.7074161069582243,0.7210933032964719,0.7199450583337977,0.7120710870379082,0.7223484829805434,0.7205911673918852,0.7218673423437664,0.7266659665581499,0.7235578324794868,0.7148665057710091,0.7327432138731401,0.7249464499694329,0.7217250174567059,0.7263196920074583,0.730724921022794,0.7032115053906837,0.7113688047338654,0.7216720566710967,0.7197756050832046,0.7297592264654191,0.7298828921366057,0.720840556994208,0.7071342098095125,0.7212195372437172,0.7380727406956844,0.7356475269574761,0.7309159334791232,0.7046721349790436,0.709917404756108,0.7170556611686207,0.7207536588583143,0.7344060148626153,0.7255334274030151,0.7308913601437728,0.7207915727746765,0.7316641200170787,0.7027729204129927,0.678801950712532,0.7397609974985392,0.7256754435768406,0.7359549114311726,0.7454262445208081,0.7445897033388906,0.7382131841955961,0.7360248029981621,0.7384703567439075,0.7306499206745373,0.7091046177949916,0.7410681636288128,0.7513351813358201,0.7377559100980461,0.7480729217478979,0.7299835548783912,0.7257227784519783,0.7579803048408389,0.7227510261655393,0.7581879672481311,0.7225416251957804,0.730997761432683,0.71774037314795,0.7510484736388466,0.7449995228791296,0.7298437364696668,0.7502246181491464,0.7412549824159951,0.7628346475387213,0.7554374480676084,0.7639424007969016,0.7471444529700968,0.7271020892217139,0.7445078220273277,0.7539900161079673,0.7525050111439766,0.7354179687558269,0.7577592662744114,0.7771787960467206],\"type\":\"scatter\"},{\"mode\":\"lines\",\"name\":\"h256_i10_lr0.01 - F1 Score\",\"x\":[0,1,2,3,4,5,6,7,8,9,10,11,12,13,14,15,16,17,18,19,20,21,22,23,24,25,26,27,28,29,30,31,32,33,34,35,36,37,38,39,40,41,42,43,44,45,46,47,48,49,50,51,52,53,54,55,56,57,58,59,60,61,62,63,64,65,66,67,68,69,70,71,72,73,74,75,76,77,78,79,80,81,82,83,84,85,86,87,88,89,90,91,92,93,94,95,96,97,98,99],\"y\":[0.5429757633367597,0.44475304145115463,0.44475304145115463,0.44475304145115463,0.44475304145115463,0.44475304145115463,0.44475304145115463,0.44475304145115463,0.44475304145115463,0.44475304145115463,0.44475304145115463,0.44475304145115463,0.44475304145115463,0.44475304145115463,0.44475304145115463,0.44475304145115463,0.44475304145115463,0.44475304145115463,0.44475304145115463,0.44475304145115463,0.44475304145115463,0.44475304145115463,0.44475304145115463,0.44475304145115463,0.44475304145115463,0.44475304145115463,0.44475304145115463,0.44475304145115463,0.44475304145115463,0.44475304145115463,0.44475304145115463,0.44475304145115463,0.44475304145115463,0.44475304145115463,0.44475304145115463,0.44475304145115463,0.44475304145115463,0.44475304145115463,0.44475304145115463,0.44475304145115463,0.44475304145115463,0.44475304145115463,0.44475304145115463,0.44475304145115463,0.44475304145115463,0.44475304145115463,0.44475304145115463,0.44475304145115463,0.44475304145115463,0.44475304145115463,0.44475304145115463,0.44475304145115463,0.44475304145115463,0.44475304145115463,0.44475304145115463,0.44475304145115463,0.44475304145115463,0.44475304145115463,0.44475304145115463,0.44475304145115463,0.44475304145115463,0.44475304145115463,0.44475304145115463,0.44475304145115463,0.44475304145115463,0.44475304145115463,0.44475304145115463,0.44475304145115463,0.23097624402634687,0.44475304145115463,0.44475304145115463,0.44475304145115463,0.44475304145115463,0.44475304145115463,0.44475304145115463,0.44475304145115463,0.44475304145115463,0.44475304145115463,0.44475304145115463,0.44475304145115463,0.44475304145115463,0.44475304145115463,0.44475304145115463,0.44679656738068874,0.4479745581465875,0.4593125687066386,0.47568652686423707,0.5669366954886546,0.6344138762032363,0.6334758151207044,0.6321282473749552,0.5921650842786907,0.6075728166437225,0.6266743258863934,0.6247549136801538,0.5689561771686065,0.6058564350634484,0.5914531923865513,0.593276368977149,0.5907413819501263],\"type\":\"scatter\"},{\"mode\":\"lines\",\"name\":\"h256_i10_lr0.001 - F1 Score\",\"x\":[0,1,2,3,4,5,6,7,8,9,10,11,12,13,14,15,16,17,18,19,20,21,22,23,24,25,26,27,28,29,30,31,32,33,34,35,36,37,38,39,40,41,42,43,44,45,46,47,48,49,50,51,52,53,54,55,56,57,58,59,60,61,62,63,64,65,66,67,68,69,70,71,72,73,74,75,76,77,78,79,80,81,82,83,84,85,86,87,88,89,90,91,92,93,94,95,96,97,98,99],\"y\":[0.44475304145115463,0.6235614785014121,0.6321310492730833,0.44475304145115463,0.6860751065817592,0.6602997704739052,0.6266237693761865,0.6649792815028907,0.44475304145115463,0.6730690163494342,0.7120534674582621,0.7206848152903313,0.7024413998036954,0.7207628039985052,0.7042396523221428,0.7067092065936886,0.7306467736055111,0.7162434369657195,0.7188578465683614,0.730464993523751,0.72024076733576,0.7136989926674582,0.7205278172951699,0.7157305598104368,0.7196601543798901,0.7153629780357891,0.6933991390507811,0.7175411931874404,0.7341401685544112,0.7226582464536734,0.7141826932291686,0.7242871886086133,0.7247970535830364,0.6901349769140382,0.7131616526118755,0.7285184928854811,0.7125763722485835,0.44475304145115463,0.44883244234121067,0.6706867866406085,0.5862241780433605,0.7117423872534868,0.7109904799471561,0.6220832916106351,0.6906192241209327,0.7117648686385118,0.7203182362583793,0.7010595375159864,0.7232387681214633,0.7312106664719639,0.732909471968663,0.7134381385163534,0.7233368207757829,0.7371512633399291,0.7276964525461738,0.728601577178544,0.7017347303619264,0.7136986845213136,0.7384975735143999,0.733706225961918,0.7392637605878987,0.7398514887240477,0.7323846582865777,0.7326519342100241,0.722811152450907,0.7391918114791006,0.7401105802120702,0.7055576326441142,0.7342597568274265,0.7321850532738502,0.7122793506677746,0.6647805114284441,0.6581212953440118,0.5900991042500477,0.7069571775089487,0.7142360583013022,0.7181344756157443,0.7162357213580866,0.7140577496653268,0.7120615837029691,0.7094280573892622,0.7272343713451612,0.7197245312739337,0.7154306721078012,0.7279349572557284,0.7142360583013022,0.7232517112938409,0.7181881310247156,0.7303011125113757,0.7137794809658711,0.7210035593812898,0.7338264140208068,0.7226556785482875,0.7246795553960923,0.7200087917781455,0.7326042120620015,0.7176818577866553,0.7294292273918161,0.7207065558632191,0.7186932724572309],\"type\":\"scatter\"}],                        {\"template\":{\"data\":{\"histogram2dcontour\":[{\"type\":\"histogram2dcontour\",\"colorbar\":{\"outlinewidth\":0,\"ticks\":\"\"},\"colorscale\":[[0.0,\"#0d0887\"],[0.1111111111111111,\"#46039f\"],[0.2222222222222222,\"#7201a8\"],[0.3333333333333333,\"#9c179e\"],[0.4444444444444444,\"#bd3786\"],[0.5555555555555556,\"#d8576b\"],[0.6666666666666666,\"#ed7953\"],[0.7777777777777778,\"#fb9f3a\"],[0.8888888888888888,\"#fdca26\"],[1.0,\"#f0f921\"]]}],\"choropleth\":[{\"type\":\"choropleth\",\"colorbar\":{\"outlinewidth\":0,\"ticks\":\"\"}}],\"histogram2d\":[{\"type\":\"histogram2d\",\"colorbar\":{\"outlinewidth\":0,\"ticks\":\"\"},\"colorscale\":[[0.0,\"#0d0887\"],[0.1111111111111111,\"#46039f\"],[0.2222222222222222,\"#7201a8\"],[0.3333333333333333,\"#9c179e\"],[0.4444444444444444,\"#bd3786\"],[0.5555555555555556,\"#d8576b\"],[0.6666666666666666,\"#ed7953\"],[0.7777777777777778,\"#fb9f3a\"],[0.8888888888888888,\"#fdca26\"],[1.0,\"#f0f921\"]]}],\"heatmap\":[{\"type\":\"heatmap\",\"colorbar\":{\"outlinewidth\":0,\"ticks\":\"\"},\"colorscale\":[[0.0,\"#0d0887\"],[0.1111111111111111,\"#46039f\"],[0.2222222222222222,\"#7201a8\"],[0.3333333333333333,\"#9c179e\"],[0.4444444444444444,\"#bd3786\"],[0.5555555555555556,\"#d8576b\"],[0.6666666666666666,\"#ed7953\"],[0.7777777777777778,\"#fb9f3a\"],[0.8888888888888888,\"#fdca26\"],[1.0,\"#f0f921\"]]}],\"heatmapgl\":[{\"type\":\"heatmapgl\",\"colorbar\":{\"outlinewidth\":0,\"ticks\":\"\"},\"colorscale\":[[0.0,\"#0d0887\"],[0.1111111111111111,\"#46039f\"],[0.2222222222222222,\"#7201a8\"],[0.3333333333333333,\"#9c179e\"],[0.4444444444444444,\"#bd3786\"],[0.5555555555555556,\"#d8576b\"],[0.6666666666666666,\"#ed7953\"],[0.7777777777777778,\"#fb9f3a\"],[0.8888888888888888,\"#fdca26\"],[1.0,\"#f0f921\"]]}],\"contourcarpet\":[{\"type\":\"contourcarpet\",\"colorbar\":{\"outlinewidth\":0,\"ticks\":\"\"}}],\"contour\":[{\"type\":\"contour\",\"colorbar\":{\"outlinewidth\":0,\"ticks\":\"\"},\"colorscale\":[[0.0,\"#0d0887\"],[0.1111111111111111,\"#46039f\"],[0.2222222222222222,\"#7201a8\"],[0.3333333333333333,\"#9c179e\"],[0.4444444444444444,\"#bd3786\"],[0.5555555555555556,\"#d8576b\"],[0.6666666666666666,\"#ed7953\"],[0.7777777777777778,\"#fb9f3a\"],[0.8888888888888888,\"#fdca26\"],[1.0,\"#f0f921\"]]}],\"surface\":[{\"type\":\"surface\",\"colorbar\":{\"outlinewidth\":0,\"ticks\":\"\"},\"colorscale\":[[0.0,\"#0d0887\"],[0.1111111111111111,\"#46039f\"],[0.2222222222222222,\"#7201a8\"],[0.3333333333333333,\"#9c179e\"],[0.4444444444444444,\"#bd3786\"],[0.5555555555555556,\"#d8576b\"],[0.6666666666666666,\"#ed7953\"],[0.7777777777777778,\"#fb9f3a\"],[0.8888888888888888,\"#fdca26\"],[1.0,\"#f0f921\"]]}],\"mesh3d\":[{\"type\":\"mesh3d\",\"colorbar\":{\"outlinewidth\":0,\"ticks\":\"\"}}],\"scatter\":[{\"fillpattern\":{\"fillmode\":\"overlay\",\"size\":10,\"solidity\":0.2},\"type\":\"scatter\"}],\"parcoords\":[{\"type\":\"parcoords\",\"line\":{\"colorbar\":{\"outlinewidth\":0,\"ticks\":\"\"}}}],\"scatterpolargl\":[{\"type\":\"scatterpolargl\",\"marker\":{\"colorbar\":{\"outlinewidth\":0,\"ticks\":\"\"}}}],\"bar\":[{\"error_x\":{\"color\":\"#2a3f5f\"},\"error_y\":{\"color\":\"#2a3f5f\"},\"marker\":{\"line\":{\"color\":\"#E5ECF6\",\"width\":0.5},\"pattern\":{\"fillmode\":\"overlay\",\"size\":10,\"solidity\":0.2}},\"type\":\"bar\"}],\"scattergeo\":[{\"type\":\"scattergeo\",\"marker\":{\"colorbar\":{\"outlinewidth\":0,\"ticks\":\"\"}}}],\"scatterpolar\":[{\"type\":\"scatterpolar\",\"marker\":{\"colorbar\":{\"outlinewidth\":0,\"ticks\":\"\"}}}],\"histogram\":[{\"marker\":{\"pattern\":{\"fillmode\":\"overlay\",\"size\":10,\"solidity\":0.2}},\"type\":\"histogram\"}],\"scattergl\":[{\"type\":\"scattergl\",\"marker\":{\"colorbar\":{\"outlinewidth\":0,\"ticks\":\"\"}}}],\"scatter3d\":[{\"type\":\"scatter3d\",\"line\":{\"colorbar\":{\"outlinewidth\":0,\"ticks\":\"\"}},\"marker\":{\"colorbar\":{\"outlinewidth\":0,\"ticks\":\"\"}}}],\"scattermapbox\":[{\"type\":\"scattermapbox\",\"marker\":{\"colorbar\":{\"outlinewidth\":0,\"ticks\":\"\"}}}],\"scatterternary\":[{\"type\":\"scatterternary\",\"marker\":{\"colorbar\":{\"outlinewidth\":0,\"ticks\":\"\"}}}],\"scattercarpet\":[{\"type\":\"scattercarpet\",\"marker\":{\"colorbar\":{\"outlinewidth\":0,\"ticks\":\"\"}}}],\"carpet\":[{\"aaxis\":{\"endlinecolor\":\"#2a3f5f\",\"gridcolor\":\"white\",\"linecolor\":\"white\",\"minorgridcolor\":\"white\",\"startlinecolor\":\"#2a3f5f\"},\"baxis\":{\"endlinecolor\":\"#2a3f5f\",\"gridcolor\":\"white\",\"linecolor\":\"white\",\"minorgridcolor\":\"white\",\"startlinecolor\":\"#2a3f5f\"},\"type\":\"carpet\"}],\"table\":[{\"cells\":{\"fill\":{\"color\":\"#EBF0F8\"},\"line\":{\"color\":\"white\"}},\"header\":{\"fill\":{\"color\":\"#C8D4E3\"},\"line\":{\"color\":\"white\"}},\"type\":\"table\"}],\"barpolar\":[{\"marker\":{\"line\":{\"color\":\"#E5ECF6\",\"width\":0.5},\"pattern\":{\"fillmode\":\"overlay\",\"size\":10,\"solidity\":0.2}},\"type\":\"barpolar\"}],\"pie\":[{\"automargin\":true,\"type\":\"pie\"}]},\"layout\":{\"autotypenumbers\":\"strict\",\"colorway\":[\"#636efa\",\"#EF553B\",\"#00cc96\",\"#ab63fa\",\"#FFA15A\",\"#19d3f3\",\"#FF6692\",\"#B6E880\",\"#FF97FF\",\"#FECB52\"],\"font\":{\"color\":\"#2a3f5f\"},\"hovermode\":\"closest\",\"hoverlabel\":{\"align\":\"left\"},\"paper_bgcolor\":\"white\",\"plot_bgcolor\":\"#E5ECF6\",\"polar\":{\"bgcolor\":\"#E5ECF6\",\"angularaxis\":{\"gridcolor\":\"white\",\"linecolor\":\"white\",\"ticks\":\"\"},\"radialaxis\":{\"gridcolor\":\"white\",\"linecolor\":\"white\",\"ticks\":\"\"}},\"ternary\":{\"bgcolor\":\"#E5ECF6\",\"aaxis\":{\"gridcolor\":\"white\",\"linecolor\":\"white\",\"ticks\":\"\"},\"baxis\":{\"gridcolor\":\"white\",\"linecolor\":\"white\",\"ticks\":\"\"},\"caxis\":{\"gridcolor\":\"white\",\"linecolor\":\"white\",\"ticks\":\"\"}},\"coloraxis\":{\"colorbar\":{\"outlinewidth\":0,\"ticks\":\"\"}},\"colorscale\":{\"sequential\":[[0.0,\"#0d0887\"],[0.1111111111111111,\"#46039f\"],[0.2222222222222222,\"#7201a8\"],[0.3333333333333333,\"#9c179e\"],[0.4444444444444444,\"#bd3786\"],[0.5555555555555556,\"#d8576b\"],[0.6666666666666666,\"#ed7953\"],[0.7777777777777778,\"#fb9f3a\"],[0.8888888888888888,\"#fdca26\"],[1.0,\"#f0f921\"]],\"sequentialminus\":[[0.0,\"#0d0887\"],[0.1111111111111111,\"#46039f\"],[0.2222222222222222,\"#7201a8\"],[0.3333333333333333,\"#9c179e\"],[0.4444444444444444,\"#bd3786\"],[0.5555555555555556,\"#d8576b\"],[0.6666666666666666,\"#ed7953\"],[0.7777777777777778,\"#fb9f3a\"],[0.8888888888888888,\"#fdca26\"],[1.0,\"#f0f921\"]],\"diverging\":[[0,\"#8e0152\"],[0.1,\"#c51b7d\"],[0.2,\"#de77ae\"],[0.3,\"#f1b6da\"],[0.4,\"#fde0ef\"],[0.5,\"#f7f7f7\"],[0.6,\"#e6f5d0\"],[0.7,\"#b8e186\"],[0.8,\"#7fbc41\"],[0.9,\"#4d9221\"],[1,\"#276419\"]]},\"xaxis\":{\"gridcolor\":\"white\",\"linecolor\":\"white\",\"ticks\":\"\",\"title\":{\"standoff\":15},\"zerolinecolor\":\"white\",\"automargin\":true,\"zerolinewidth\":2},\"yaxis\":{\"gridcolor\":\"white\",\"linecolor\":\"white\",\"ticks\":\"\",\"title\":{\"standoff\":15},\"zerolinecolor\":\"white\",\"automargin\":true,\"zerolinewidth\":2},\"scene\":{\"xaxis\":{\"backgroundcolor\":\"#E5ECF6\",\"gridcolor\":\"white\",\"linecolor\":\"white\",\"showbackground\":true,\"ticks\":\"\",\"zerolinecolor\":\"white\",\"gridwidth\":2},\"yaxis\":{\"backgroundcolor\":\"#E5ECF6\",\"gridcolor\":\"white\",\"linecolor\":\"white\",\"showbackground\":true,\"ticks\":\"\",\"zerolinecolor\":\"white\",\"gridwidth\":2},\"zaxis\":{\"backgroundcolor\":\"#E5ECF6\",\"gridcolor\":\"white\",\"linecolor\":\"white\",\"showbackground\":true,\"ticks\":\"\",\"zerolinecolor\":\"white\",\"gridwidth\":2}},\"shapedefaults\":{\"line\":{\"color\":\"#2a3f5f\"}},\"annotationdefaults\":{\"arrowcolor\":\"#2a3f5f\",\"arrowhead\":0,\"arrowwidth\":1},\"geo\":{\"bgcolor\":\"white\",\"landcolor\":\"#E5ECF6\",\"subunitcolor\":\"white\",\"showland\":true,\"showlakes\":true,\"lakecolor\":\"white\"},\"title\":{\"x\":0.05},\"mapbox\":{\"style\":\"light\"}}},\"title\":{\"text\":\"F1 Scores\"},\"xaxis\":{\"title\":{\"text\":\"Epochs\"}},\"yaxis\":{\"title\":{\"text\":\"Metrics\"}},\"showlegend\":true,\"legend\":{\"title\":{\"text\":\"Hyperparameter Configurations\"}}},                        {\"responsive\": true}                    ).then(function(){\n",
              "                            \n",
              "var gd = document.getElementById('a4b21c6a-2563-46ef-923d-a9204398407b');\n",
              "var x = new MutationObserver(function (mutations, observer) {{\n",
              "        var display = window.getComputedStyle(gd).display;\n",
              "        if (!display || display === 'none') {{\n",
              "            console.log([gd, 'removed!']);\n",
              "            Plotly.purge(gd);\n",
              "            observer.disconnect();\n",
              "        }}\n",
              "}});\n",
              "\n",
              "// Listen for the removal of the full notebook cells\n",
              "var notebookContainer = gd.closest('#notebook-container');\n",
              "if (notebookContainer) {{\n",
              "    x.observe(notebookContainer, {childList: true});\n",
              "}}\n",
              "\n",
              "// Listen for the clearing of the current output cell\n",
              "var outputEl = gd.closest('.output');\n",
              "if (outputEl) {{\n",
              "    x.observe(outputEl, {childList: true});\n",
              "}}\n",
              "\n",
              "                        })                };                            </script>        </div>\n",
              "</body>\n",
              "</html>"
            ]
          },
          "metadata": {}
        }
      ]
    },
    {
      "cell_type": "code",
      "source": [
        "import json\n",
        "\n",
        "def find_best_hyperparameters(results_file='experiment_results.json'):\n",
        "    # Load the results from the JSON file\n",
        "    with open(results_file, 'r') as f:\n",
        "        results = json.load(f)\n",
        "\n",
        "    # Initialize variables to store the best results\n",
        "    best_accuracy = 0\n",
        "    best_f1_score = 0\n",
        "    best_accuracy_params = None\n",
        "    best_f1_params = None\n",
        "\n",
        "    # Iterate over the results to find the best accuracy and F1 score\n",
        "    for key, data in results.items():\n",
        "        # Get the highest accuracy and F1 score from each experiment\n",
        "        max_accuracy = max(data['test_accuracies'])\n",
        "        max_f1_score = max(data['f1_scores'])\n",
        "\n",
        "        # Check if it's the best accuracy so far\n",
        "        if max_accuracy > best_accuracy:\n",
        "            best_accuracy = max_accuracy\n",
        "            best_accuracy_params = key\n",
        "\n",
        "        # Check if it's the best F1 score so far\n",
        "        if max_f1_score > best_f1_score:\n",
        "            best_f1_score = max_f1_score\n",
        "            best_f1_params = key\n",
        "\n",
        "    # Print the best results\n",
        "    print(f\"Best Accuracy: {best_accuracy:.4f} with hyperparameters: {best_accuracy_params}\")\n",
        "    print(f\"Best F1 Score: {best_f1_score:.4f} with hyperparameters: {best_f1_params}\")\n",
        "\n",
        "# After the experiments are done, call the function to find the best hyperparameters\n",
        "find_best_hyperparameters()"
      ],
      "metadata": {
        "colab": {
          "base_uri": "https://localhost:8080/"
        },
        "id": "A8m22lJdNKTM",
        "outputId": "8ce793ff-c3ed-4f06-f52d-d3e64def05b6"
      },
      "execution_count": null,
      "outputs": [
        {
          "output_type": "stream",
          "name": "stdout",
          "text": [
            "Best Accuracy: 0.7772 with hyperparameters: h256_i5_lr0.001\n",
            "Best F1 Score: 0.7772 with hyperparameters: h256_i5_lr0.001\n"
          ]
        }
      ]
    },
    {
      "cell_type": "markdown",
      "source": [
        "\n",
        "\n",
        "---\n",
        "\n"
      ],
      "metadata": {
        "id": "kQrPssxmAJJc"
      }
    },
    {
      "cell_type": "markdown",
      "source": [
        "# Bench Mark Setup Code"
      ],
      "metadata": {
        "id": "fKQbzpAOALWl"
      }
    },
    {
      "cell_type": "code",
      "source": [
        "import torch\n",
        "import torch.nn.functional as F\n",
        "from torch_geometric.datasets import TUDataset\n",
        "from torch_geometric.loader import DataLoader\n",
        "from torch_geometric.nn import GCNConv\n",
        "from sklearn.model_selection import StratifiedKFold\n",
        "from sklearn.metrics import accuracy_score, f1_score\n",
        "import numpy as np\n",
        "\n",
        "# Load the dataset\n",
        "dataset = TUDataset(root='/tmp/PROTEINS', name='PROTEINS')\n",
        "\n",
        "# Normalize node features\n",
        "mean = dataset.data.x.mean(dim=0, keepdim=True)\n",
        "std = dataset.data.x.std(dim=0, keepdim=True)\n",
        "dataset.data.x = (dataset.data.x - mean) / std\n",
        "\n",
        "# Define the GNN model (using GCN as an example)\n",
        "class GCN(torch.nn.Module):\n",
        "    def __init__(self, num_node_features, hidden_channels):\n",
        "        super(GCN, self).__init__()\n",
        "        self.conv1 = GCNConv(num_node_features, hidden_channels)\n",
        "        self.conv2 = GCNConv(hidden_channels, hidden_channels)\n",
        "        self.conv3 = GCNConv(hidden_channels, 2)  # 2 classes for binary classification\n",
        "\n",
        "    def forward(self, x, edge_index, batch):\n",
        "        x = F.relu(self.conv1(x, edge_index))\n",
        "        x = F.relu(self.conv2(x, edge_index))\n",
        "        x = self.conv3(x, edge_index)\n",
        "        return F.log_softmax(x, dim=1)\n",
        "\n",
        "# Training function\n",
        "def train(model, loader, optimizer, device):\n",
        "    model.train()\n",
        "    for data in loader:\n",
        "        data = data.to(device)\n",
        "        optimizer.zero_grad()\n",
        "        out = model(data.x, data.edge_index, data.batch)\n",
        "        loss = F.nll_loss(out, data.y)\n",
        "        loss.backward()\n",
        "        optimizer.step()\n",
        "\n",
        "# Evaluation function\n",
        "def evaluate(model, loader, device):\n",
        "    model.eval()\n",
        "    predictions = []\n",
        "    labels = []\n",
        "    with torch.no_grad():\n",
        "        for data in loader:\n",
        "            data = data.to(device)\n",
        "            out = model(data.x, data.edge_index, data.batch)\n",
        "            pred = out.argmax(dim=1)\n",
        "            predictions.extend(pred.cpu().numpy())\n",
        "            labels.extend(data.y.cpu().numpy())\n",
        "    return accuracy_score(labels, predictions), f1_score(labels, predictions, average='macro')\n",
        "\n",
        "# Set up cross-validation\n",
        "n_splits = 10\n",
        "skf = StratifiedKFold(n_splits=n_splits, shuffle=True, random_state=42)\n",
        "\n",
        "# Prepare data for cross-validation\n",
        "dataset_indices = list(range(len(dataset)))\n",
        "dataset_labels = [data.y.item() for data in dataset]\n",
        "\n",
        "# Set up device\n",
        "device = torch.device('cuda' if torch.cuda.is_available() else 'cpu')\n",
        "\n",
        "# Hyperparameters\n",
        "hidden_channels = 64\n",
        "learning_rate = 0.01\n",
        "num_epochs = 200\n",
        "batch_size = 32\n",
        "\n",
        "# Lists to store results\n",
        "accuracies = []\n",
        "f1_scores = []\n",
        "\n",
        "# Perform cross-validation\n",
        "for fold, (train_idx, val_idx) in enumerate(skf.split(dataset_indices, dataset_labels)):\n",
        "    print(f\"Fold {fold + 1}/{n_splits}\")\n",
        "\n",
        "    train_dataset = [dataset[i] for i in train_idx]\n",
        "    val_dataset = [dataset[i] for i in val_idx]\n",
        "\n",
        "    train_loader = DataLoader(train_dataset, batch_size=batch_size, shuffle=True)\n",
        "    val_loader = DataLoader(val_dataset, batch_size=batch_size)\n",
        "\n",
        "    model = GCN(num_node_features=dataset.num_node_features, hidden_channels=hidden_channels).to(device)\n",
        "    optimizer = torch.optim.Adam(model.parameters(), lr=learning_rate)\n",
        "\n",
        "    best_val_acc = 0\n",
        "    patience = 50\n",
        "    counter = 0\n",
        "\n",
        "    for epoch in range(num_epochs):\n",
        "        train(model, train_loader, optimizer, device)\n",
        "        val_acc, val_f1 = evaluate(model, val_loader, device)\n",
        "\n",
        "        if val_acc > best_val_acc:\n",
        "            best_val_acc = val_acc\n",
        "            counter = 0\n",
        "        else:\n",
        "            counter += 1\n",
        "\n",
        "        if counter >= patience:\n",
        "            print(f\"Early stopping at epoch {epoch}\")\n",
        "            break\n",
        "\n",
        "    # Final evaluation\n",
        "    final_acc, final_f1 = evaluate(model, val_loader, device)\n",
        "    accuracies.append(final_acc)\n",
        "    f1_scores.append(final_f1)\n",
        "    print(f\"Fold {fold + 1} - Accuracy: {final_acc:.4f}, F1-score: {final_f1:.4f}\")\n",
        "\n",
        "# Print final results\n",
        "print(f\"\\nFinal Results:\")\n",
        "print(f\"Mean Accuracy: {np.mean(accuracies):.4f} (+/- {np.std(accuracies):.4f})\")\n",
        "print(f\"Mean F1-score: {np.mean(f1_scores):.4f} (+/- {np.std(f1_scores):.4f})\")"
      ],
      "metadata": {
        "id": "RzqXTeU0AIs7"
      },
      "execution_count": null,
      "outputs": []
    }
  ]
}